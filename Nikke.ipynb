{
 "cells": [
  {
   "cell_type": "code",
   "execution_count": 45,
   "id": "a9d25a5f",
   "metadata": {},
   "outputs": [],
   "source": [
    "import pyautogui\n",
    "import time\n",
    "from threading import Timer\n",
    "import threading\n",
    "import os\n",
    "import numpy as np\n",
    "import pytesseract\n",
    "from PIL import ImageGrab\n",
    "import math\n",
    "pytesseract.pytesseract.tesseract_cmd=r'C:\\\\Program Files\\\\Tesseract-OCR\\\\tesseract.exe'\n",
    "from easyocr import Reader\n",
    "from types import GeneratorType\n",
    "import re\n",
    "import cv2\n",
    "import pygetwindow as gw\n",
    "import json\n",
    "from PIL import Image\n",
    "from operator import itemgetter\n",
    "from functools import wraps\n",
    "import keyboard\n",
    "import logging\n",
    "import PIL\n",
    "for handler in logging.root.handlers[:]:\n",
    "    logging.root.removeHandler(handler)\n",
    "logging.basicConfig(format=' %(asctime)s - %(levelname)s - %(message)s')\n",
    "\n",
    "profile = {\n",
    "    \"name\": \"default profile\",\n",
    "    \"agent_type\": \"nikke\",\n",
    "    \"desc\": \"a default template for Nikke helper\",\n",
    "    \"settings\":{\n",
    "        \"load_to_memory\":True,\n",
    "        \"active_window\": \"BlueStacks Keymap Overlay\"\n",
    "    },\n",
    "    \"routine\": {\n",
    "        \"1\":{\n",
    "            \"name\":\"claim_outpost_reward\",\n",
    "            \"display_name\": \"Claim Outpost Reward\",\n",
    "            \"frequency\": \"daily\",\n",
    "            \"priority\": 2,\n",
    "            \"auto\":True,\n",
    "            \"settings\":{\n",
    "            }\n",
    "        },\n",
    "        \"2\":{\n",
    "            \"name\":\"claim_friend_points\",\n",
    "            \"display_name\": \"Claim Friend Points\",\n",
    "            \"priority\": 1,\n",
    "            \"frequency\": \"daily\",\n",
    "            \"auto\":True,\n",
    "            \"settings\":{\n",
    "            }\n",
    "        },\n",
    "        \"3\":{\n",
    "            \"name\":\"advise_nikke\",\n",
    "            \"display_name\": \"Advise Nikke\",\n",
    "            \"priority\": 3,\n",
    "            \"frequency\": \"daily\",\n",
    "            \"auto\":True,\n",
    "            \"settings\":{\n",
    "            }\n",
    "        },\n",
    "        \"4\":{\n",
    "            \"name\":\"event\",\n",
    "            \"display_name\": \"Repeat Event Levels\",\n",
    "            \"priority\": 4,\n",
    "            \"frequency\": \"daily\",\n",
    "            \"auto\":False,\n",
    "            \"settings\":{\n",
    "                \"level_to_repeat\":\"1-11\"\n",
    "            }\n",
    "        }, \n",
    "        \"5\":{\n",
    "            \"name\":\"rookie_arena\",\n",
    "            \"display_name\": \"Rookie Arena\",\n",
    "            \"priority\": 5,\n",
    "            \"frequency\": \"daily\",\n",
    "            \"auto\":True,\n",
    "            \"settings\":{\n",
    "                \"max_power_gap\": 1000\n",
    "            }\n",
    "        }\n",
    "    }\n",
    "}\n",
    "\n",
    "## Nikke Agent"
   ]
  },
  {
   "cell_type": "code",
   "execution_count": 46,
   "id": "61230cac",
   "metadata": {},
   "outputs": [],
   "source": [
    "class LocationBox:\n",
    "    def __init__(self, left=0, top=0, width=0, height=0, box=None, _box=None, points=None):\n",
    "        if box:\n",
    "            left = box.left\n",
    "            top = box.top\n",
    "            width = box.width\n",
    "            height = box.height\n",
    "        elif _box:\n",
    "            left = _box._left\n",
    "            top = _box._top\n",
    "            width = _box._width\n",
    "            height = _box._height\n",
    "        elif points:\n",
    "            loc = self.points_to_loc(points)\n",
    "            left = loc.left\n",
    "            top = loc.top\n",
    "            width = loc.width\n",
    "            height = loc.height\n",
    "\n",
    "        self.left = left\n",
    "        self.top = top\n",
    "        self.width = width\n",
    "        self.height = height\n",
    "\n",
    "    def points_to_loc(self, points):\n",
    "        x_coordinates, y_coordinates = zip(*points)\n",
    "        return LocationBox(min(x_coordinates),\n",
    "                           min(y_coordinates),\n",
    "                           max(x_coordinates)-min(x_coordinates),\n",
    "                           max(y_coordinates) - min(y_coordinates))\n",
    "\n",
    "    def to_array(self):\n",
    "        return [self.left, self.top, self.width, self.height]\n",
    "\n",
    "    def to_bounding(self):\n",
    "        return [self.left, self.top, self.left+self.width, self.top+self.height]\n",
    "\n",
    "    def translate(self, x, y):\n",
    "        return LocationBox(self.left+x, self.top+y, self.width, self.height)\n",
    "\n",
    "    def resize(self, width, height):\n",
    "        return LocationBox(self.left, self.top, width, height)\n",
    "\n",
    "    def coord(self):\n",
    "        return np.array([self.left, self.top])\n",
    "\n",
    "    def size(self):\n",
    "        return np.array([self.width, self.height])\n",
    "\n",
    "    def stretch(self, value, axis=0, direction=\"right\", in_place=False):\n",
    "        new_box = LocationBox(box=self)\n",
    "        if axis == 0:\n",
    "            new_box.width += value\n",
    "            if direction == \"left\":\n",
    "                new_box.left -= value\n",
    "        elif axis == 1:\n",
    "            new_box.height += value\n",
    "            if direction == \"up\":\n",
    "                new_box.top -= value\n",
    "\n",
    "        if in_place:\n",
    "            if axis == 0:\n",
    "                new_box.width -= self.width\n",
    "                if direction == \"left\":\n",
    "                    new_box.left -= self.width\n",
    "                elif direction == \"right\":\n",
    "                    new_box.left += self.width\n",
    "\n",
    "            elif axis == 1:\n",
    "                new_box.height -= self.height\n",
    "                if direction == \"up\":\n",
    "                    new_box.top -= self.height\n",
    "                elif direction == \"down\":\n",
    "                    new_box.top += self.height\n",
    "\n",
    "        return new_box\n",
    "\n",
    "    def __repr__(self):\n",
    "        return f'LocationBox(left={self.left}, top={self.top}, width={self.width}, height={self.height})'\n"
   ]
  },
  {
   "cell_type": "code",
   "execution_count": 47,
   "id": "eb8f9464",
   "metadata": {},
   "outputs": [
    {
     "name": "stderr",
     "output_type": "stream",
     "text": [
      " 2023-02-22 17:04:54,413 - WARNING - CUDA not available - defaulting to CPU. Note: This module is much faster with a GPU.\n"
     ]
    }
   ],
   "source": [
    "class GameInteractionIO:\n",
    "    bounce_key_delay = 0.07\n",
    "    inter_key_delay = 0.1\n",
    "    post_action_delay = 1\n",
    "    language = ['en', 'ch_sim']\n",
    "    reader = Reader(language)\n",
    "\n",
    "    def post_action_generator(delay):\n",
    "        def post_action(function):\n",
    "            @wraps(function)\n",
    "            def wrapper(*args, **kwargs):\n",
    "                retval = function(*args, **kwargs)\n",
    "                GameInteractionIO.delay(delay)\n",
    "                return retval\n",
    "            return wrapper\n",
    "        return post_action\n",
    "\n",
    "    post_action = post_action_generator(post_action_delay)\n",
    "\n",
    "    def to_cv2(image):\n",
    "        return cv2.cvtColor(np.array(image), cv2.COLOR_RGB2BGR)\n",
    "\n",
    "    def to_pil(image):\n",
    "        image = cv2.cvtColor(image, cv2.COLOR_BGR2RGB)\n",
    "        im_pil = Image.fromarray(image)\n",
    "        return im_pil\n",
    "\n",
    "    def switch_active_application(app_name, app_loc=None):\n",
    "        app_list = [\"\"]\n",
    "        if not app_loc:\n",
    "            app_list = GameInteractionIO.get_available_applications(\n",
    "                verbose=True)\n",
    "        else:\n",
    "            app_list = gw.getWindowsAt(\n",
    "                *GameInteractionIO.get_image_center(app_loc))\n",
    "        app = [app for app in app_list if app.title == app_name][0]\n",
    "        if app:\n",
    "            app.activate()\n",
    "        else:\n",
    "            return False\n",
    "        return True\n",
    "\n",
    "    def resize_application(app_name=\"NIKKE\", app_loc=None, size=None):\n",
    "        app_list = [\"\"]\n",
    "        if not app_loc:\n",
    "            app_list = GameInteractionIO.get_available_applications(\n",
    "                verbose=True)\n",
    "        else:\n",
    "            app_list = gw.getWindowsAt(\n",
    "                *GameInteractionIO.get_image_center(app_loc))\n",
    "\n",
    "        app = [app for app in app_list if app.title == app_name][0]\n",
    "        if app and size:\n",
    "            app.resizeTo(*size)\n",
    "        else:\n",
    "            return False\n",
    "        return True\n",
    "\n",
    "    def get_available_applications(verbose=False):\n",
    "        app_list = [app for app in pyautogui.getAllWindows()\n",
    "                    if app.title != \"\"]\n",
    "        if not verbose:\n",
    "            app_list = [app.title for app in app_list]\n",
    "        return app_list\n",
    "\n",
    "    def sharpen(image):\n",
    "        kernel = np.array([[0, -3, 0],\n",
    "                       [-1, 9,-1],\n",
    "                       [0, -3, 0]])\n",
    "        image_sharp = cv2.filter2D(src=image, ddepth=-1, kernel=kernel)\n",
    "        return image_sharp\n",
    "    \n",
    "    def stretch_white_space(image, empty_count=5):\n",
    "        white_space = np.array([[255]*(image.shape[1])]*2)\n",
    "        p = np.concatenate((white_space, image))\n",
    "        \n",
    "        # a = np.array([[255]*(p.shape[0])]).T\n",
    "        a = p\n",
    "        empty_count = round(empty_count)\n",
    "#         prev = 0\n",
    "#         count = 0\n",
    "#         digit = []\n",
    "#         for ind in range(p.shape[1]):\n",
    "#             if np.mean(p[:, ind]) == 255:\n",
    "#                 a = np.concatenate((a, p[:, prev:ind+1]), axis=1)\n",
    "#                 a = np.concatenate((a, np.array([p[:, ind]]*11).T), axis=1)\n",
    "#                 if np.mean(p[:, prev:ind+1].flatten()) != 255:\n",
    "#                     digit.append(np.array(p[:, prev:ind+1], dtype=np.uint8))\n",
    "#                 prev = ind\n",
    "#                 count += 1\n",
    "#                 if count > empty_count:\n",
    "#                     break\n",
    "#             else:\n",
    "#                 count = 0\n",
    "        \n",
    "        white_space_count = 0\n",
    "        max_white_space = empty_count\n",
    "        prev = 255\n",
    "        b = np.array([[255]*(a.shape[0])]).T\n",
    "        filler = np.array([[255]*(a.shape[0])]).T\n",
    "        for ind in range(a.shape[1]):\n",
    "            cur = np.mean(a[:, ind])\n",
    "            # print(cur)\n",
    "            if cur >= 250:\n",
    "                if prev >= 250:\n",
    "                    if white_space_count <= max_white_space:\n",
    "                        b = np.concatenate((b, filler), axis=1)\n",
    "                        white_space_count += 1\n",
    "                else:\n",
    "                    b = np.concatenate((b, filler), axis=1)\n",
    "                    white_space_count = 0\n",
    "            else:\n",
    "                if prev >= 250 and (white_space_count < max_white_space):\n",
    "                    b = np.concatenate((b, np.array([[255]*(a.shape[0])]*(max_white_space-white_space_count)).T), axis=1)\n",
    "                b = np.concatenate((b, a[:, [ind]]), axis=1)\n",
    "                white_space_count = 0\n",
    "            prev = cur\n",
    "            \n",
    "                \n",
    "        b = b.astype(np.uint8)\n",
    "        return b\n",
    "\n",
    "    def preprocess_image(image, threshold='global'):\n",
    "        \"\"\"\n",
    "        preprocess a PIL image to make it more visible for text recognition\n",
    "        \"\"\"\n",
    "        image = cv2.cvtColor(np.array(image), cv2.COLOR_RGB2BGR)\n",
    "        gray = cv2.cvtColor(image, cv2.COLOR_BGR2GRAY)\n",
    "        if threshold == 'global':\n",
    "            ret, thresh = cv2.threshold(gray, 110, 255, cv2.THRESH_BINARY)\n",
    "            new_image = thresh\n",
    "        elif threshold == 'adaptive':\n",
    "            thresh = cv2.adaptiveThreshold(\n",
    "                gray, 255, cv2.ADAPTIVE_THRESH_MEAN_C, cv2.THRESH_BINARY, 13, 2)\n",
    "            erode = cv2.erode(thresh, np.array((7, 7)), iterations=1)\n",
    "            new_image - erode\n",
    "        return new_image\n",
    "    \n",
    "    def resize(im, ratio):\n",
    "        return im.resize((round(s*ratio) for s in im.size))\n",
    "    \n",
    "    def is_white_background(image, threshold=0.3):\n",
    "        \"\"\"remove images with transparent or white background\"\"\"\n",
    "        background = np.array([230, 230, 255])\n",
    "        percent = (image >= background).sum() / image.size\n",
    "        if percent >= threshold:\n",
    "            return True\n",
    "        else:\n",
    "            return False    \n",
    "    \n",
    "    def preprocess_image_number(image, threshold=80):\n",
    "        \"\"\"\n",
    "        preprocess a PIL image to make it more visible for text recognition\n",
    "        \"\"\"\n",
    "        # resize to best size\n",
    "        image = GameInteractionIO.resize(image, 2)\n",
    "        \n",
    "        # convert to cv2 format\n",
    "        image = cv2.cvtColor(np.array(image), cv2.COLOR_RGB2BGR)\n",
    "        \n",
    "        # normalize image\n",
    "        normalized = cv2.normalize(image, None, 0, 255, cv2.NORM_MINMAX)\n",
    "        \n",
    "        # invert image if background is black\n",
    "        if not GameInteractionIO.is_white_background(normalized, threshold=0.2):\n",
    "            normalized = cv2.bitwise_not(normalized)\n",
    "        \n",
    "        # grayscale\n",
    "        gray = cv2.cvtColor(normalized, cv2.COLOR_BGR2GRAY)\n",
    "        \n",
    "        # threshold\n",
    "        ret, thresh = cv2.threshold(gray, threshold, 255, cv2.THRESH_BINARY)\n",
    "        \n",
    "        # blur and sharppen\n",
    "        blured = cv2.GaussianBlur(thresh,(3,3),0)\n",
    "        sharpened = GameInteractionIO.sharpen(blured)\n",
    "        \n",
    "        # erode\n",
    "        # erode = cv2.erode(sharpened, np.array((3, 3)), iterations=1)\n",
    "        \n",
    "        # stretch space\n",
    "        stretch_image = GameInteractionIO.stretch_white_space(sharpened, 4*2)\n",
    "        \n",
    "        return stretch_image\n",
    "\n",
    "    def read_text(image_name, model_name=None, detail=1, in_line=True):\n",
    "        if not model_name:\n",
    "            model_name = GameInteractionIO.reader\n",
    "\n",
    "        frame = cv2.cvtColor(np.array(image_name), cv2.COLOR_RGB2BGR)\n",
    "\n",
    "        # Read the data\n",
    "        result = model_name.readtext(frame, detail=detail, paragraph=in_line)\n",
    "        return result\n",
    "\n",
    "    def _read_number(image, l=0, im_type=6, model_type='digits', threshold=120):\n",
    "        if l == 0:\n",
    "            value = pytesseract.image_to_string(image,\n",
    "                                                config=f'-l eng --oem 1 --psm {im_type} outputbase digits tessedit_char_whitelist=0123456789').strip().replace(\" \", \"\")\n",
    "        elif l == 1:\n",
    "            image = GameInteractionIO.preprocess_image_number(image, threshold)\n",
    "            value = pytesseract.image_to_string(image,\n",
    "                                                config=f'-l {model_type} --oem 1 --psm {im_type} outputbase digits tessedit_char_whitelist=0123456789').strip().replace(\" \", \"\")\n",
    "            \n",
    "        value = re.sub('[^A-Za-z0-9]+', '\\n', value)\n",
    "        if not value.isdigit():\n",
    "            return False\n",
    "        value = int(value)\n",
    "        return value\n",
    "\n",
    "    def read_number(image, l=0, threshold=80):\n",
    "        \"\"\"\n",
    "        image types\n",
    "        #   0    Orientation and script detection (OSD) only.\n",
    "        #   1    Automatic page segmentation with OSD.\n",
    "        #   2    Automatic page segmentation, but no OSD, or OCR.\n",
    "        #   3    Fully automatic page segmentation, but no OSD. (Default)\n",
    "        #   4    Assume a single column of text of variable sizes.\n",
    "        #   5    Assume a single uniform block of vertically aligned text.\n",
    "        #   6    Assume a single uniform block of text.\n",
    "        #   7    Treat the image as a single text line.\n",
    "        #   8    Treat the image as a single word.\n",
    "        #   9    Treat the image as a single word in a circle.\n",
    "        #  10    Treat the image as a single character.\n",
    "        #  11    Sparse text. Find as much text as possible in no particular order.\n",
    "        #  12    Sparse text with OSD.\n",
    "        #  13    Raw line. Treat the image as a single text line,\n",
    "        #             bypassing hacks that are Tesseract-specific.\n",
    "        \"\"\"\n",
    "        value = False\n",
    "        im_type_list = [6, 8, 10, 12]\n",
    "        model_type_list = ['digitsall_layer', \n",
    "                           #'digits'\n",
    "                          ]\n",
    "        value_list = []\n",
    "        for im_type in im_type_list:\n",
    "            for model_type in model_type_list:\n",
    "                value = GameInteractionIO._read_number(image, l, im_type, model_type, threshold)\n",
    "                if value:\n",
    "                    value_list.append(value)\n",
    "        if not value:\n",
    "            value = GameInteractionIO.read_text(image, detail=0)\n",
    "            if value:\n",
    "                value = value[0]\n",
    "                value = re.sub('[^A-Za-z0-9]+', '\\n', value)\n",
    "                if value.isdigit():\n",
    "                    value = int(value)\n",
    "                    value_list.append(value)\n",
    "        if len(value_list) > 0:\n",
    "            value = max(value_list)\n",
    "        else:\n",
    "            value = False\n",
    "        return value\n",
    "\n",
    "    def repeat_press(key, hold_time):\n",
    "        start_time = time.time()\n",
    "        while time.time() - start_time < hold_time:\n",
    "            pyautogui.press(key)\n",
    "\n",
    "    def hold_key(key, hold_time):\n",
    "        pyautogui.keyDown(key)\n",
    "        print('holding %s' % key)\n",
    "        time.sleep(hold_time)\n",
    "        pyautogui.keyUp(key)\n",
    "\n",
    "    def hold_key_combo(keydown, key):\n",
    "        pyautogui.keyDown(keydown)\n",
    "        pyautogui.keyDown(key)\n",
    "        time.sleep(GameInteractionIO.inter_key_delay)\n",
    "        pyautogui.keyUp(key)\n",
    "        pyautogui.keyUp(keydown)\n",
    "\n",
    "    def double_click(key):\n",
    "        print('double clicking %s' % key)\n",
    "        pyautogui.keyDown(key)\n",
    "        time.sleep(GameInteractionIO.bounce_key_delay)\n",
    "        pyautogui.keyUp(key)\n",
    "        time.sleep(GameInteractionIO.inter_key_delay)\n",
    "        pyautogui.keyDown(key)\n",
    "        time.sleep(GameInteractionIO.bounce_key_delay)\n",
    "        pyautogui.keyUp(key)\n",
    "\n",
    "    def single_click(key):\n",
    "        print('single clicking %s' % key)\n",
    "        pyautogui.keyDown(key)\n",
    "        time.sleep(GameInteractionIO.bounce_key_delay)\n",
    "        pyautogui.keyUp(key)\n",
    "\n",
    "    def scroll(distance):\n",
    "        pyautogui.scroll(distance)\n",
    "        time.sleep(GameInteractionIO.inter_key_delay)\n",
    "\n",
    "    def mouse_right_click(cursor_coord=[None, None]):\n",
    "        pyautogui.click(*cursor_coord, clicks=1, interval=1, button='right')\n",
    "\n",
    "    def mouse_left_click(cursor_coord=[None, None]):\n",
    "        pyautogui.click(*cursor_coord, clicks=1, interval=1, button='left')\n",
    "\n",
    "    def mouse_right_double_click(cursor_coord):\n",
    "        pyautogui.click(*cursor_coord, clicks=2, interval=0.1, button='right')\n",
    "\n",
    "    def mouse_left_double_click(cursor_coord):\n",
    "        pyautogui.click(*cursor_coord, clicks=2, interval=0.1, button='left')\n",
    "\n",
    "    def mouse_multiclick(cursor_coord, clicks=2, interval=0.1, button='left'):\n",
    "        pyautogui.click(*cursor_coord, clicks=clicks,\n",
    "                        interval=interval, button='left')\n",
    "\n",
    "    def delay(delay_time):\n",
    "        if delay_time < 0:\n",
    "            delay_time = 0\n",
    "        time.sleep(delay_time)\n",
    "\n",
    "    def get_image_center(location):\n",
    "        return np.array([location.left + location.width//2, location.top + location.height//2])\n",
    "\n",
    "    def get_window_info(logo_path, resolution):\n",
    "        window_corner_location = GameInteractionIO.locate_image(\n",
    "            logo_path, confidence=0.9)\n",
    "        if not window_corner_location:\n",
    "            return None\n",
    "        offset = [-3, -4, 0, 20]\n",
    "        # offset = [-3, 16, 0, 0]\n",
    "        x_min = window_corner_location.left + offset[0]\n",
    "        width = resolution[0] + offset[2]\n",
    "        y_min = window_corner_location.top + offset[1]\n",
    "        height = resolution[1] + offset[3]\n",
    "        window_info_array = [x_min, y_min, width, height]\n",
    "        window_info_location = LocationBox(*window_info_array)\n",
    "        return window_info_location\n",
    "\n",
    "    def _rmse(measured, truth):\n",
    "        rmse = np.linalg.norm(measured - truth) / np.sqrt(len(truth))\n",
    "        return rmse\n",
    "\n",
    "    def _remove_duplicated_location_once(image_location_list, threshold=0.1):\n",
    "        if not image_location_list:\n",
    "            return image_location_list\n",
    "        il_prev = image_location_list[0]\n",
    "        new_image_location_list = [il_prev]\n",
    "        for il in image_location_list[1:]:\n",
    "            if abs(il.top - il_prev.top) > il.height*threshold or abs(il.left - il_prev.left) > il.width*threshold:\n",
    "                new_image_location_list.append(il)\n",
    "                il_prev = il\n",
    "        return new_image_location_list\n",
    "\n",
    "    def _remove_duplicated_location(image_location_list, threshold=0.1):\n",
    "        if not image_location_list:\n",
    "            return image_location_list\n",
    "\n",
    "        new_image_location_list = GameInteractionIO.non_maximum_suppresion(\n",
    "            image_location_list, threshold=threshold)\n",
    "\n",
    "        return new_image_location_list\n",
    "\n",
    "    def non_maximum_suppresion(loc_list, threshold=0.4):\n",
    "        boxes = np.array([loc.to_bounding() for loc in loc_list])\n",
    "        # Return an empty list, if no boxes given\n",
    "        if len(boxes) == 0:\n",
    "            return []\n",
    "        x1 = boxes[:, 0]  # x coordinate of the top-left corner\n",
    "        y1 = boxes[:, 1]  # y coordinate of the top-left corner\n",
    "        x2 = boxes[:, 2]  # x coordinate of the bottom-right corner\n",
    "        y2 = boxes[:, 3]  # y coordinate of the bottom-right corner\n",
    "        # Compute the area of the bounding boxes and sort the bounding\n",
    "        # Boxes by the bottom-right y-coordinate of the bounding box\n",
    "        # We add 1, because the pixel at the start as well as at the end counts\n",
    "        areas = (x2 - x1 + 1) * (y2 - y1 + 1)\n",
    "        # The indices of all boxes at start. We will redundant indices one by one.\n",
    "        indices = np.arange(len(x1))\n",
    "        for i, box in enumerate(boxes):\n",
    "            # Create temporary indices\n",
    "            temp_indices = indices[indices != i]\n",
    "            # Find out the coordinates of the intersection box\n",
    "            xx1 = np.maximum(box[0], boxes[temp_indices, 0])\n",
    "            yy1 = np.maximum(box[1], boxes[temp_indices, 1])\n",
    "            xx2 = np.minimum(box[2], boxes[temp_indices, 2])\n",
    "            yy2 = np.minimum(box[3], boxes[temp_indices, 3])\n",
    "            # Find out the width and the height of the intersection box\n",
    "            w = np.maximum(0, xx2 - xx1 + 1)\n",
    "            h = np.maximum(0, yy2 - yy1 + 1)\n",
    "            # compute the ratio of overlap\n",
    "            overlap = (w * h) / areas[temp_indices]\n",
    "            # if the actual boungding box has an overlap bigger than treshold with any other box, remove it's index\n",
    "            if np.any(overlap) > threshold:\n",
    "                indices = indices[indices != i]\n",
    "        # return only the boxes at the remaining indices\n",
    "        return [loc_list[ind] for ind in indices]\n",
    "\n",
    "    def locate_image(image_path, master_image_path=None, confidence=0.8, region=None, multi=False, multi_threshold=0.3):\n",
    "        if isinstance(image_path, list):\n",
    "            location_list = []\n",
    "            for im in image_path:\n",
    "                if master_image_path:\n",
    "                    if multi:\n",
    "                        image_location = pyautogui.locateAll(\n",
    "                            im, master_image_path, confidence=confidence)\n",
    "                    else:\n",
    "                        image_location = pyautogui.locate(\n",
    "                            im, master_image_path, confidence=confidence)\n",
    "                else:\n",
    "                    if multi:\n",
    "                        image_location = pyautogui.locateAllOnScreen(\n",
    "                            im, confidence=confidence, region=region)\n",
    "                    else:\n",
    "                        image_location = pyautogui.locateOnScreen(\n",
    "                            im, confidence=confidence, region=region)\n",
    "                if image_location is not None:\n",
    "                    if isinstance(image_location, GeneratorType):\n",
    "                        image_location = [LocationBox(\n",
    "                            *il) for il in image_location]\n",
    "                        image_location = GameInteractionIO._remove_duplicated_location(\n",
    "                            image_location, threshold=multi_threshold)\n",
    "                    elif image_location is not None:\n",
    "                        image_location = LocationBox(*image_location)\n",
    "                    location_list.append(image_location)\n",
    "            return location_list\n",
    "        else:\n",
    "            if master_image_path:\n",
    "                if multi:\n",
    "                    image_location = pyautogui.locateAll(\n",
    "                        image_path, master_image_path, confidence=confidence)\n",
    "                else:\n",
    "                    image_location = pyautogui.locate(\n",
    "                        image_path, master_image_path, confidence=confidence)\n",
    "            else:\n",
    "                if multi:\n",
    "                    image_location = pyautogui.locateAllOnScreen(\n",
    "                        image_path, confidence=confidence, region=region)\n",
    "                else:\n",
    "                    image_location = pyautogui.locateOnScreen(\n",
    "                        image_path, confidence=confidence, region=region)\n",
    "            if isinstance(image_location, GeneratorType):\n",
    "                image_location = [LocationBox(*il) for il in image_location]\n",
    "                image_location = GameInteractionIO._remove_duplicated_location(\n",
    "                    image_location, threshold=multi_threshold)\n",
    "            elif image_location is not None:\n",
    "                image_location = LocationBox(*image_location)\n",
    "            return image_location if image_location else None\n",
    "\n",
    "    def exist_image(image_path, master_image_path=None, confidence=0.8, region=None, loop=False, timeout=10):\n",
    "        image_location = None\n",
    "        if isinstance(image_path, list):\n",
    "            location_list = []\n",
    "            if loop is True:\n",
    "                wait_time = 0\n",
    "                while image_location is None and wait_time < timeout:\n",
    "                    for im in image_path:\n",
    "                        if master_image_path:\n",
    "                            image_location = pyautogui.locate(\n",
    "                                im, master_image_path, confidence=confidence)\n",
    "                        else:\n",
    "                            image_location = pyautogui.locateOnScreen(\n",
    "                                im, confidence=confidence, region=region)\n",
    "                        if image_location is None:\n",
    "                            GameInteractionIO.delay(1)\n",
    "                            wait_time += 1\n",
    "                            break\n",
    "                if image_location is None:\n",
    "                    return False\n",
    "            else:\n",
    "                for im in image_path:\n",
    "                    if master_image_path:\n",
    "                        image_location = pyautogui.locate(\n",
    "                            im, master_image_path, confidence=confidence)\n",
    "                    else:\n",
    "                        image_location = pyautogui.locateOnScreen(\n",
    "                            im, confidence=confidence, region=region)\n",
    "                    if image_location is None:\n",
    "                        return False\n",
    "        else:\n",
    "            if loop is True:\n",
    "                wait_time = 0\n",
    "                while image_location is None and wait_time < timeout:\n",
    "                    if master_image_path:\n",
    "                        image_location = pyautogui.locate(\n",
    "                            image_path, master_image_path, confidence=confidence)\n",
    "                    else:\n",
    "                        image_location = pyautogui.locateOnScreen(\n",
    "                            image_path, confidence=confidence, region=region)\n",
    "                    if image_location is None:\n",
    "                        GameInteractionIO.delay(1)\n",
    "                        wait_time += 1\n",
    "                        break\n",
    "                if image_location is None:\n",
    "                    return False\n",
    "            else:\n",
    "                if master_image_path:\n",
    "                    image_location = pyautogui.locate(\n",
    "                        image_path, master_image_path, confidence=confidence)\n",
    "                else:\n",
    "                    image_location = pyautogui.locateOnScreen(\n",
    "                        image_path, confidence=confidence, region=region)\n",
    "                if image_location is None:\n",
    "                    return False\n",
    "        return True\n",
    "\n",
    "    def move_to_image_location(location, alignment='center'):\n",
    "        image_cord = [location.left, location.top]\n",
    "        if alignment == 'center':\n",
    "            image_cord[0] += location.width//2\n",
    "            image_cord[1] += location.height//2\n",
    "        pyautogui.moveTo(*image_cord)\n",
    "\n",
    "    def get_direction(source_location, destination_location):\n",
    "        source_center = GameInteractionIO.get_image_center(source_location)\n",
    "        destination_center = GameInteractionIO.get_image_center(\n",
    "            destination_location)\n",
    "        direction = destination_center - source_center\n",
    "        return direction\n",
    "\n",
    "    def get_coord(location):\n",
    "        return np.array([location.left, location.top])\n",
    "\n",
    "    def mouse_center(window_center):\n",
    "        pyautogui.moveTo(*window_center)\n",
    "\n",
    "    def mouse_center_click(image_location):\n",
    "        window_center = GameInteractionIO.get_image_center(image_location)\n",
    "        pyautogui.click(*window_center, clicks=1, interval=1, button='left')\n",
    "\n",
    "    def locate_image_and_double_click(image_path, region_im=None, region_location=None, region=None, button='left'):\n",
    "        \"\"\"\n",
    "        locate an image and double click it\n",
    "        default using left click\n",
    "        \"\"\"\n",
    "        image_location = GameInteractionIO.locate_image(\n",
    "            image_path, region_im, confidence=0.8, region=region)\n",
    "        if not image_location:\n",
    "            return False\n",
    "        image_coord = GameInteractionIO.get_image_center(image_location)\n",
    "        if region_location is not None:\n",
    "            image_coord += region_location.coord()\n",
    "        pyautogui.click(*image_coord, clicks=2, interval=1, button=button)\n",
    "        return True\n",
    "\n",
    "    @post_action\n",
    "    def locate_image_and_click(image_path, region_im=None, region_location=None, confidence=0.8,\n",
    "                               region=None, button='left', loop=False, timeout=10, delay=1):\n",
    "        \"\"\"\n",
    "        locate an image and double click it\n",
    "        default using left click\n",
    "        \"\"\"\n",
    "        image_location = GameInteractionIO.locate_image(\n",
    "            image_path, region_im, confidence=confidence, region=region)\n",
    "        if loop is True:\n",
    "            wait_time = 0\n",
    "            while not image_location and wait_time < timeout:\n",
    "                GameInteractionIO.delay(delay)\n",
    "                image_location = GameInteractionIO.locate_image(\n",
    "                    image_path, region_im, confidence=confidence, region=region)\n",
    "                wait_time += 1\n",
    "        if not image_location:\n",
    "            return False\n",
    "        if isinstance(image_location, list):\n",
    "            image_location = image_location[0]\n",
    "        image_coord = GameInteractionIO.get_image_center(image_location)\n",
    "        if region_location is not None:\n",
    "            image_coord += region_location.coord()\n",
    "        if button:\n",
    "            pyautogui.click(*image_coord, clicks=1, interval=1, button=button)\n",
    "        return True\n",
    "\n",
    "    def get_region_location_first_time(region_image_path, window_info):\n",
    "        \"\"\"\n",
    "        based on the given image path, get the relative location of the image in\n",
    "        the screen w.r.t. the window's center coord \n",
    "        \"\"\"\n",
    "        region_abs_location = GameInteractionIO.locate_image(\n",
    "            region_image_path, confidence=0.9, region=window_info)\n",
    "        region_offset = GameInteractionIO.get_coord(\n",
    "            region_abs_location) - GameInteractionIO.get_image_center(window_info)\n",
    "        region_offset_location = LocationBox(\n",
    "            *region_offset,\n",
    "            *region_abs_location.size())\n",
    "        return region_offset_location\n",
    "\n",
    "    def get_region_location(region_location_offset, window_center_coord):\n",
    "        \"\"\"\n",
    "        based on the region's offset location and the window's center coord\n",
    "        get the region's current active location\n",
    "        \"\"\"\n",
    "        left = region_location_offset.left + window_center_coord[0]\n",
    "        top = region_location_offset.top + window_center_coord[1]\n",
    "        return LocationBox(left, top, *region_location_offset.size())\n",
    "\n",
    "    def get_sub_region_location(sub_region_offset, region_offset, window_center_coord):\n",
    "        \"\"\"\n",
    "        based on subregion's offset to windows center coord reference and the region's offset to window center coord\n",
    "        get the subregion's offset location relative to the region's location\n",
    "        \"\"\"\n",
    "        sub_region_location_coord = window_center_coord - \\\n",
    "            region_offset.coord() + sub_region_offset.coord()\n",
    "        sub_region_location = LocationBox(\n",
    "            *sub_region_location_coord,\n",
    "            *sub_region_offset.size()\n",
    "        )\n",
    "        return sub_region_location\n",
    "\n",
    "    def get_location_image(image_location, region_image=None):\n",
    "        \"\"\"\n",
    "            take a screenshot of the image location screen\n",
    "            if a region_image is provided, use tha region image as the screen instead\n",
    "        \"\"\"\n",
    "        if region_image is not None:\n",
    "            location_im = region_image.crop(image_location.to_bounding())\n",
    "        else:\n",
    "            location_im = ImageGrab.grab(bbox=image_location.to_bounding())\n",
    "        return location_im\n"
   ]
  },
  {
   "cell_type": "code",
   "execution_count": 48,
   "id": "9a4c435e",
   "metadata": {},
   "outputs": [],
   "source": [
    "gio = GameInteractionIO"
   ]
  },
  {
   "cell_type": "code",
   "execution_count": 200,
   "id": "d563b9c9",
   "metadata": {},
   "outputs": [],
   "source": [
    "class Agent:\n",
    "    def retry_action(timeout=3, delay=3):\n",
    "        def post_action(function):\n",
    "            @wraps(function)\n",
    "            def wrapper(*args, **kwargs):\n",
    "                attempt = 0\n",
    "                while attempt < timeout:\n",
    "                    try:\n",
    "                        retval = function(*args, **kwargs)\n",
    "                        return retval\n",
    "                    except Exception as e:\n",
    "                        print(e)\n",
    "                        gio.delay(delay)\n",
    "                return None\n",
    "            return wrapper\n",
    "        return post_action\n",
    "\n",
    "    def __init__(\n",
    "        self,\n",
    "        app_name=None,\n",
    "        profile=None,\n",
    "        profile_path=None,\n",
    "        game_settings=None,\n",
    "        game_settings_path=None\n",
    "    ):\n",
    "        # set logging\n",
    "        self.set_logger()\n",
    "\n",
    "        # load up the profile\n",
    "        self.load_profile(profile=profile, profile_path=profile_path)\n",
    "\n",
    "        # Load up game settings\n",
    "        self.load_game_settings(profile=game_settings,\n",
    "                                profile_path=game_settings_path)\n",
    "\n",
    "        # set the active window region\n",
    "        self.initialize_game(app_name)\n",
    "\n",
    "    def _sort_dict_by_value(self, unsorted_dict, value):\n",
    "        \"\"\"\n",
    "        helper function to sort a dictionary by the values of it's sub dictionaries\n",
    "        \"\"\"\n",
    "        return {k: v for k, v in sorted(unsorted_dict.items(), key=lambda item: item[1][value])}\n",
    "\n",
    "    def set_logger(self):\n",
    "        self.logger = logging.getLogger(\n",
    "            '==============NIKKE DEBUGGER=============')\n",
    "        self.logger.setLevel(logging.DEBUG)\n",
    "\n",
    "    def initialize_game(self, app_name=None):\n",
    "        # initialize all features\n",
    "        self.default_resolution = [575, 1022]\n",
    "        self.default_real_resolution = [591, 1061]\n",
    "        self.default_advise_nikke_stretch_length = 250\n",
    "        self.image_path = 'images'\n",
    "        self.NIKKE_PC_WINDOW = 'NIKKE'\n",
    "        self.NIKKE_PC_SCROLL_CONSTANT = 13\n",
    "        self.init_location_map()\n",
    "        self.set_active_window(app_name)\n",
    "        self.setup_image_profile()\n",
    "        self.set_game_settings()\n",
    "        return True\n",
    "\n",
    "    def select_active_window(self, app_name=None):\n",
    "        if not app_name:\n",
    "            app_name = self.settings.get('active_window')\n",
    "        self.set_active_window(app_name)\n",
    "        self.setup_image_profile()\n",
    "        self.set_game_settings()\n",
    "        return True\n",
    "\n",
    "    def resize_image(self, im):\n",
    "        new_resolution = self.resolution\n",
    "        if new_resolution != self.default_resolution:\n",
    "            ratio = new_resolution[1]/self.default_resolution[1]\n",
    "            im = im.resize((round(s*ratio) for s in im.size))\n",
    "        return im\n",
    "\n",
    "    def resize_value(self, value):\n",
    "        new_resolution = self.resolution\n",
    "        if new_resolution != self.default_resolution:\n",
    "            ratio = new_resolution[1]/self.resolution[1]\n",
    "            value = value*ratio\n",
    "        return value\n",
    "\n",
    "    def load_image_path(self, image_path):\n",
    "        image_path_dict = {}\n",
    "\n",
    "        for root, dirs, files in os.walk(image_path):\n",
    "            if root[-1] != \"\\\\\":\n",
    "                root = root+\"\\\\\"\n",
    "            sub_dir = root.replace(image_path+'\\\\', '')\n",
    "            for file in files:\n",
    "                if file.endswith('.png') or file.endswith('.PNG'):\n",
    "                    pretty_name = \"_\".join(os.path.join(\n",
    "                        sub_dir, file).split('.')[0].split('\\\\'))\n",
    "                    if self.settings['load_to_memory'] is True:\n",
    "                        image_path_dict[pretty_name] = self.resize_image(\n",
    "                            Image.open(os.path.join(root, file)))\n",
    "                    else:\n",
    "                        image_path_dict[pretty_name] = os.path.join(root, file)\n",
    "        return image_path_dict\n",
    "\n",
    "    def setup_image_profile(self):\n",
    "        \"\"\"\n",
    "        load the matching images\n",
    "        \"\"\"\n",
    "        current_path = os.getcwd()\n",
    "        image_dir_name = self.image_path\n",
    "        agent_dir_name = self.type\n",
    "\n",
    "        image_path = os.path.join(current_path, image_dir_name, agent_dir_name)\n",
    "        self.image_map = self.load_image_path(image_path=image_path)\n",
    "        return True\n",
    "\n",
    "    def set_parameters(self):\n",
    "        self.settings['rookie_arena'] = self.get_rookie_arena_settings()\n",
    "\n",
    "    def init_location_map(self):\n",
    "        self.location_map = {}\n",
    "        return True\n",
    "\n",
    "    def set_active_window(self, app_name=None):\n",
    "        \"\"\"\n",
    "        set the current active window info\n",
    "        \"\"\"\n",
    "        if not app_name:\n",
    "            if self.settings.get('active_window'):\n",
    "                app_name = self.settings.get('active_window')\n",
    "            else:\n",
    "                app_name = \"BlueStacks Keymap Overlay\"\n",
    "\n",
    "        # get all apps open\n",
    "        app_list = gio.get_available_applications(verbose=True)\n",
    "\n",
    "        # find the selected app by name\n",
    "        app = [app for app in app_list if app.title == app_name]\n",
    "\n",
    "        if len(app) == 0:\n",
    "            self.resolution = self.default_resolution\n",
    "            self.logger.error('cannot find active game window')\n",
    "            return False\n",
    "        app = app[0]\n",
    "\n",
    "        self.settings['active_window'] = app_name\n",
    "\n",
    "        # record the app location\n",
    "        app_location = LocationBox(_box=app._rect)\n",
    "\n",
    "        if app_name == self.NIKKE_PC_WINDOW:\n",
    "            self.logger.info('Detected PC version of Nikke')\n",
    "            title_height = 39\n",
    "            edge_width = 8\n",
    "\n",
    "            app_location = app_location.stretch(-title_height, axis=1, direction='down'\n",
    "                                                ).translate(0, title_height-edge_width\n",
    "                                                            ).stretch(-edge_width*2, axis=0, direction='left'\n",
    "                                                                      ).translate(-edge_width, 0)\n",
    "\n",
    "        self.location_map['home'] = app_location\n",
    "\n",
    "        self.resolution = [app_location.width, app_location.height]\n",
    "        self.res_multi = self.resolution[1]/self.default_resolution[1]\n",
    "        self.logger.info('succesfully detected app window')\n",
    "        return True\n",
    "\n",
    "    def load_profile(self, profile=None, profile_path=None):\n",
    "        \"\"\"\n",
    "        load the skill profile for a given agent based on either a skill_path or a skill profile\n",
    "        if none provided, the profile will be initialized to the default profile from the default skill \n",
    "        \"\"\"\n",
    "        if not profile_path:\n",
    "            default_profile_path = 'agent\\\\default\\\\default_nikke_profile.json'\n",
    "            current_path = os.getcwd()\n",
    "            profile_path = os.path.join(current_path, default_profile_path)\n",
    "\n",
    "        if not profile:\n",
    "            with open(profile_path) as f:\n",
    "                profile = json.load(f)\n",
    "\n",
    "        self.profile_path = profile_path\n",
    "        self.profile_name = profile.get('name', 'unknown name')\n",
    "        self.desc = profile.get('desc', 'unknown desc')\n",
    "        self.routine = profile.get('routine', 'unknown routine')\n",
    "        self.type = profile.get('agent_type', 'unknown type')\n",
    "        self.settings = profile.get('settings', 'unknown settings')\n",
    "\n",
    "        self.logger.info('Loaded profile {}'.format(self.profile_name))\n",
    "\n",
    "    def load_game_settings(self, profile=None, profile_path=None):\n",
    "        \"\"\"\n",
    "        load the skill profile for a given agent based on either a skill_path or a skill profile\n",
    "        if none provided, the profile will be initialized to the default profile from the default skill \n",
    "        \"\"\"\n",
    "        if not profile_path:\n",
    "            default_profile_path = 'agent\\\\default\\\\game_settings.json'\n",
    "            current_path = os.getcwd()\n",
    "            profile_path = os.path.join(current_path, default_profile_path)\n",
    "\n",
    "        if not profile:\n",
    "            with open(profile_path) as f:\n",
    "                profile = json.load(f)\n",
    "\n",
    "        setting_type = 'default'\n",
    "        self.game_settings = profile.get(setting_type)\n",
    "        self.logger.info(f'loaded {setting_type} game settings')\n",
    "\n",
    "    def set_game_settings(self, setting_type='default'):\n",
    "        # if resolution changed, modify all game related variables that would change with resolution\n",
    "        settings = self.game_settings\n",
    "        if self.res_multi != 1:\n",
    "            m = self.res_multi\n",
    "            for module, content in self.game_settings.items():\n",
    "                for s_type, setting in content.items():\n",
    "                    if s_type == 'var':\n",
    "                        for k, v in setting.items():\n",
    "                            setting[k] = round(v*m)\n",
    "        self.game_settings = settings\n",
    "        return True\n",
    "\n",
    "    def save_profile(self):\n",
    "        profile = {}\n",
    "        profile['name'] = self.profile_name\n",
    "        profile['desc'] = self.desc\n",
    "        profile['routine'] = self.routine\n",
    "        profile['agent_type'] = self.type\n",
    "        profile['settings'] = self.settings\n",
    "\n",
    "        with open(self.profile_path, 'w') as json_file:\n",
    "            json.dump(profile, json_file, indent=4)\n",
    "        self.logger.info(f'Succesfully saved profile to {self.profile_path}')\n",
    "\n",
    "    def focus(self):\n",
    "        return gio.switch_active_application(app_name=self.settings['active_window'], app_loc=self.location_map['home'])\n",
    "\n",
    "    def resize(self, resolution=None):\n",
    "        if not resolution:\n",
    "            resolution = self.default_real_resolution\n",
    "        gio.resize_application(app_name=self.settings['active_window'],\n",
    "                               app_loc=self.location_map['home'],\n",
    "                               size=resolution)\n",
    "        self.select_active_window()\n",
    "        return True\n",
    "\n",
    "    def resize_to_optimal(self):\n",
    "        self.resize(resolution=self.default_real_resolution)\n",
    "\n",
    "    def is_home(self):\n",
    "        pass\n",
    "\n",
    "    def terminate_action(self):\n",
    "        raise KeyboardInterrupt\n",
    "\n",
    "    def back(self):\n",
    "        gio.single_click('esc')\n",
    "\n",
    "    def exit_to_home(self):\n",
    "        self.logger.info('Exiting to home...')\n",
    "        potential_actions = [self.image_map['home_outpost_express_reward'],\n",
    "                             self.image_map['home_outpost_express_confirm'],\n",
    "                             self.image_map['home_outpost_express_level_up']]\n",
    "\n",
    "        # click on first available action to exit the outpost express claim panel\n",
    "        if gio.locate_image_and_click(potential_actions,\n",
    "                                      region=self.location_map['home'].to_bounding(), loop=True, timeout=2):\n",
    "            return True\n",
    "        if gio.locate_image_and_click(self.image_map['home_flash_sale'],\n",
    "                                      region=self.location_map['home'].to_bounding(), loop=True, timeout=2):\n",
    "            if gio.locate_image_and_click(self.image_map['confirm'],\n",
    "                                          region=self.location_map['home'].to_bounding(), loop=True, timeout=2):\n",
    "                return True\n",
    "\n",
    "        if gio.locate_image_and_click(self.image_map['back_home'],\n",
    "                                      region=self.location_map['home'].to_bounding(), loop=True, timeout=3):\n",
    "            return True\n",
    "        else:\n",
    "            item_list = [self.image_map['home_blabla'],\n",
    "                         self.image_map['home_friend'], self.image_map['home_union']]\n",
    "            self.focus()\n",
    "            while gio.exist_image(item_list, region=self.location_map['home'].to_bounding()) is False:\n",
    "                gio.single_click(\"esc\")\n",
    "                gio.delay(1)\n",
    "            return True\n",
    "\n",
    "    def scroll(self, scroll_distance=100, direction='down', delay=2, time=1):\n",
    "        if self.settings['active_window'] == self.NIKKE_PC_WINDOW:\n",
    "            time = time*self.NIKKE_PC_SCROLL_CONSTANT\n",
    "\n",
    "        direction_multiplier = 1 if direction == 'up' else -1\n",
    "        gio.move_to_image_location(self.location_map['home'])\n",
    "        for _ in range(time):\n",
    "            gio.scroll(direction_multiplier*scroll_distance)\n",
    "        gio.delay(delay)\n",
    "\n",
    "    def claim_outpost_reward_wipe(self):\n",
    "        \"\"\"\n",
    "            try to do outpost wipe\n",
    "        \"\"\"\n",
    "        self.logger.info('Checking if outpost wipe is available')\n",
    "        wipe_count = 0\n",
    "        # return to home if not on the page and enter the screen\n",
    "        if not gio.locate_image(self.image_map['home_outpost_express_wipe'],\n",
    "                                region=self.location_map['home'].to_bounding()):\n",
    "            self.exit_to_home()\n",
    "            gio.locate_image_and_click(self.image_map['home_outpost_express'],\n",
    "                                       region=self.location_map['home'].to_bounding(), confidence=0.8)\n",
    "\n",
    "        gio.locate_image_and_click(self.image_map['home_outpost_express_wipe'],\n",
    "                                   region=self.location_map['home'].to_bounding(), loop=True, timeout=2)\n",
    "        # if the wipe is free\n",
    "        if not gio.locate_image(self.image_map['home_outpost_express_wipe_gem'],\n",
    "                                region=self.location_map['home'].to_bounding()):\n",
    "            if gio.locate_image_and_click(self.image_map['home_outpost_express_wipe_wipe'],\n",
    "                                          region=self.location_map['home'].to_bounding(), loop=True, timeout=2):\n",
    "                wipe_count += 1\n",
    "\n",
    "        self.logger.info(f'Performed {wipe_count} outpost wipe')\n",
    "        self.exit_to_home()\n",
    "\n",
    "    def claim_outpost_reward(self):\n",
    "        \"\"\"\n",
    "            claim the rewards for the outposts\n",
    "        \"\"\"\n",
    "        self.logger.info(\"claiming outpost reward start\")\n",
    "\n",
    "        # click on outpost\n",
    "        gio.locate_image_and_click(self.image_map['home_outpost_express'],\n",
    "                                   region=self.location_map['home'].to_bounding(), confidence=0.8)\n",
    "\n",
    "        # click on get reward\n",
    "        gio.locate_image_and_click(self.image_map['home_outpost_express_obtain_reward'],\n",
    "                                   region=self.location_map['home'].to_bounding(), loop=True)\n",
    "\n",
    "        # different pop ups could happen depending on whether\n",
    "        # 1. there's reward\n",
    "        # 2. there's no reward ready\n",
    "        # 3. there's a level up\n",
    "        potential_actions = [self.image_map['home_outpost_express_reward'],\n",
    "                             self.image_map['home_outpost_express_confirm'],\n",
    "                             self.image_map['home_outpost_express_level_up']]\n",
    "\n",
    "        # click on first available action to exit the outpost express claim panel\n",
    "        gio.locate_image_and_click(potential_actions,\n",
    "                                   region=self.location_map['home'].to_bounding(), loop=True)\n",
    "\n",
    "        # try to do outpost wipe if possible\n",
    "        self.claim_outpost_reward_wipe()\n",
    "\n",
    "        self.logger.info(\"claiming outpost reward end successful\")\n",
    "\n",
    "        self.exit_to_home()\n",
    "\n",
    "    def claim_friend_points(self):\n",
    "        \"\"\"\n",
    "        claim all existing friendship points\n",
    "        \"\"\"\n",
    "        self.logger.info(\"claiming friend points start\")\n",
    "\n",
    "        # click on friendship icon\n",
    "        gio.locate_image_and_click(self.image_map['home_friend'],\n",
    "                                   region=self.location_map['home'].to_bounding())\n",
    "\n",
    "        # wait for the friendlist to refresh\n",
    "        gio.exist_image(self.image_map['home_friend_send_ready'],\n",
    "                        region=self.location_map['home'].to_bounding(), loop=True)\n",
    "\n",
    "        # TODO: Might want to make this into a setting\n",
    "        gio.delay(2)  # usually friendship takes sometime to refresh\n",
    "\n",
    "        # if you can still send/receive points, do it and confirm\n",
    "        if not gio.exist_image(self.image_map['home_friend_send_not_ready'],\n",
    "                               region=self.location_map['home'].to_bounding(), loop=True, timeout=2):\n",
    "            gio.locate_image_and_click(self.image_map['home_friend_send'],\n",
    "                                       region=self.location_map['home'].to_bounding(), loop=True)\n",
    "            gio.locate_image_and_click(self.image_map['confirm'],\n",
    "                                       region=self.location_map['home'].to_bounding())\n",
    "\n",
    "        self.logger.info(\"claiming friend points end\")\n",
    "        self.exit_to_home()\n",
    "\n",
    "    @retry_action()\n",
    "    def advise_check_available_session(self):\n",
    "        ADVISE_AMOUNT_TEXT_1 = '咨询次数'\n",
    "        ADVISE_AMOUNT_TEXT_2 = '追踪妮姬'\n",
    "        available_advise_session = 0\n",
    "        if not gio.exist_image(self.image_map['home_advise_home'], loop=True, timeout=3):\n",
    "            self.logger.info('Leaving advising because not in advising UI')\n",
    "            return None\n",
    "        im = gio.get_location_image(self.location_map['home'])\n",
    "        result = gio.read_text(im, detail=0)\n",
    "        if result:\n",
    "            for ind, s in enumerate(result):\n",
    "                if s == ADVISE_AMOUNT_TEXT_1:\n",
    "                    available_advise_session = int(result[ind+1][0].strip()[0])\n",
    "                elif s == ADVISE_AMOUNT_TEXT_2:\n",
    "                    available_advise_session = int(result[ind-1][0].strip()[0])\n",
    "\n",
    "        return available_advise_session\n",
    "\n",
    "    def advise_nikke_make_choice(self, nikke_name, choice_location):\n",
    "        # TODO: select choice based on lookup table of actual answers\n",
    "        # this will require a copy of the answer sheet\n",
    "        return choice_location[0]\n",
    "\n",
    "    def advise_nikke_single_round(self, nikke_advised={}, nikke_last_round=[]):\n",
    "        self.logger.info(\"started a round of advising nikkes\")\n",
    "        end_session = False\n",
    "        stretch_length = self.resize_value(\n",
    "            self.default_advise_nikke_stretch_length)\n",
    "        stretch_direction = \"right\"\n",
    "        nikke_current_round = []\n",
    "\n",
    "        star_location = gio.locate_image(self.image_map['home_advise_star'],\n",
    "                                         region=self.location_map['home'].to_bounding(), multi=True)\n",
    "        if not star_location:\n",
    "            end_session = True\n",
    "        else:\n",
    "            for loc in star_location:\n",
    "                # check if there's available session\n",
    "                session_available = self.advise_check_available_session()\n",
    "                if not session_available or session_available == 0:\n",
    "                    end_session = True\n",
    "                    self.logger.info(\"No more sessions available today\")\n",
    "                    break\n",
    "                nikke_location = loc.stretch(\n",
    "                    value=stretch_length, direction=stretch_direction)\n",
    "                name_im = gio.get_location_image(nikke_location)\n",
    "                name_raw = gio.read_text(name_im)[0]\n",
    "                if name_raw:\n",
    "                    nikke_name = name_raw[-1]\n",
    "                else:\n",
    "                    nikke_name = f'Unknown Nikke at location ({nikke_location.left}, {nikke_location.top})'\n",
    "\n",
    "                nikke_current_round.append(nikke_name)\n",
    "                self.logger.info(f\"started advising {nikke_name}\")\n",
    "                if nikke_advised.get(nikke_name) is None:\n",
    "                    nikke_advised[nikke_name] = {}\n",
    "                    nikke_advised[nikke_name]['location'] = nikke_location\n",
    "                    nikke_advised[nikke_name]['advised'] = False\n",
    "                if nikke_advised.get(nikke_name)['advised'] is False:\n",
    "                    # click on the nikke to advise\n",
    "                    if not gio.locate_image_and_click(name_im,\n",
    "                                                      region=self.location_map['home'].to_bounding(), loop=True, confidence=0.99):\n",
    "                        break\n",
    "                    # in case rare circumstances would cause the nikke to be already advised\n",
    "                    # mark it and move to the next nikke\n",
    "                    if gio.locate_image_and_click(self.image_map['home_advise_advise_unavailable'], region=self.location_map['home'].to_bounding(),\n",
    "                                                  loop=True, confidence=0.9, timeout=2):\n",
    "                        nikke_advised[nikke_name]['advised'] = True\n",
    "                        self.logger.info(\n",
    "                            f'Nikke {nikke_name} is not available or has already been advised')\n",
    "                        gio.locate_image_and_click(self.image_map['back'], region=self.location_map['home'].to_bounding(),\n",
    "                                                   loop=True, timeout=2)\n",
    "                        continue\n",
    "                    # click on the advise button\n",
    "                    if not gio.locate_image_and_click(self.image_map['home_advise_advise'],\n",
    "                                                      region=self.location_map['home'].to_bounding(), loop=True):\n",
    "                        break\n",
    "                    # click on confirm\n",
    "                    if not gio.locate_image_and_click(self.image_map['confirm'],\n",
    "                                                      region=self.location_map['home'].to_bounding(), loop=True):\n",
    "                        break\n",
    "                    # start the advise session, continue until reaching a decision point\n",
    "                    while gio.locate_image_and_click(self.image_map['home_advise_continue'],\n",
    "                                                     region=self.location_map['home'].to_bounding(), confidence=0.7, loop=True, timeout=3):\n",
    "                        continue\n",
    "                    # grab the choices and make one\n",
    "                    choice_location = gio.locate_image(self.image_map['home_advise_choice'],\n",
    "                                                       region=self.location_map['home'].to_bounding(), multi=True)\n",
    "                    current_choice = self.advise_nikke_make_choice(\n",
    "                        nikke_name=nikke_name, choice_location=choice_location)\n",
    "                    gio.mouse_left_click(current_choice.coord())\n",
    "\n",
    "                    # finish the conversation\n",
    "                    while gio.locate_image_and_click(self.image_map['home_advise_continue'],\n",
    "                                                     region=self.location_map['home'].to_bounding(), confidence=0.7, loop=True, timeout=3):\n",
    "                        continue\n",
    "                    # back to advise menu\n",
    "\n",
    "                    # if rank up, confirm\n",
    "                    gio.locate_image_and_click(self.image_map['home_advise_rank_up_confirm'],\n",
    "                                               region=self.location_map['home'].to_bounding(), loop=True, timeout=4)\n",
    "\n",
    "                    if not gio.locate_image_and_click(self.image_map['back'],\n",
    "                                                      region=self.location_map['home'].to_bounding(), loop=True):\n",
    "                        break\n",
    "                    nikke_advised.get(nikke_name)['advised'] = True\n",
    "\n",
    "\n",
    "        # if there hasn't been any changes in Nikke advised\n",
    "        if nikke_last_round == nikke_current_round:\n",
    "            self.logger.info(\"No more new nikkes to advise\")\n",
    "            end_session = True\n",
    "\n",
    "        self.logger.info(\"ended a round of advising nikkes\")\n",
    "\n",
    "        return end_session, nikke_advised, nikke_current_round\n",
    "\n",
    "    def conversation_choice(self, choice_location, choice_information=None, decision_func=None):\n",
    "        \"\"\"\n",
    "            make a decision choice based on the information and decision function\n",
    "            if no decision function presented, always return the first choice location available\n",
    "        \"\"\"\n",
    "        final_choice_loc = None\n",
    "        if not decision_func:\n",
    "            final_choice_loc = choice_location[0]\n",
    "        return final_choice_loc\n",
    "\n",
    "    def conversation(self):\n",
    "        self.logger.info('checking to start a conversation...')\n",
    "        in_progress = True\n",
    "        while in_progress:\n",
    "            in_progress = gio.locate_image_and_click(self.image_map['home_advise_continue'],\n",
    "                                                     region=self.location_map['home'].to_bounding(), confidence=0.7, loop=True, timeout=3)\n",
    "            if not in_progress:\n",
    "                # grab the choices and make one\n",
    "                choice_location = gio.locate_image(self.image_map['home_advise_choice'],\n",
    "                                                   region=self.location_map['home'].to_bounding(), multi=True)\n",
    "                if choice_location:\n",
    "                    in_progress = True\n",
    "                else:\n",
    "                    break\n",
    "                current_choice = self.conversation_choice(\n",
    "                    choice_location=choice_location)\n",
    "                gio.mouse_left_click(current_choice.coord())\n",
    "        self.logger.info('conversation ended.')\n",
    "        return True\n",
    "\n",
    "    def advise_nikke(self):\n",
    "        self.logger.info(\"advising nikkes start\")\n",
    "        nikke_advised = {}\n",
    "        nikke_last_round = []\n",
    "        end_session = False\n",
    "        if not gio.locate_image_and_click(self.image_map['home_advise'],\n",
    "                                          region=self.location_map['home'].to_bounding(), loop=True, timeout=3):\n",
    "            \n",
    "            self.logger.warning(\n",
    "                \"advise option now found, returning home to try again\")\n",
    "            self.exit_to_home()\n",
    "            if not gio.locate_image_and_click(self.image_map['home_advise'],\n",
    "                                          region=self.location_map['home'].to_bounding(), loop=True, timeout=3):\n",
    "                self.logger.warning(\n",
    "                    \"advising nikkes failed because the nikke icon is not found\")\n",
    "                return False\n",
    "            \n",
    "        if not gio.locate_image_and_click(self.image_map['home_advise_home'],\n",
    "                                          region=self.location_map['home'].to_bounding(), loop=True, timeout=3):\n",
    "            self.logger.warning(\n",
    "                \"advising nikkes failed because the advise icon is not found\")\n",
    "            return False\n",
    "\n",
    "        # keep advising nikkes until reaching the stopping condition\n",
    "        while not end_session:\n",
    "            end_session, nikke_advised, nikke_current_round = self.advise_nikke_single_round(\n",
    "                nikke_advised, nikke_last_round)\n",
    "            if nikke_last_round == nikke_current_round:\n",
    "                self.scroll()\n",
    "                end_session, nikke_advised, nikke_current_round = self.advise_nikke_single_round(\n",
    "                    nikke_advised, nikke_last_round)\n",
    "            nikke_last_round = nikke_current_round\n",
    "\n",
    "        self.logger.info(\"advising nikkes end successful\")\n",
    "        #\n",
    "        self.exit_to_home()\n",
    "\n",
    "    def event(self, event_type=\"valentine_2023\", repeat_level=\"1-11\"):\n",
    "        self.logger.info(f\"repeating event {event_type} start\")\n",
    "        # keep advising nikkes until reaching the stopping condition\n",
    "        end_session = False\n",
    "        stretch_length = self.resize_value(self.default_event_stretch_length)\n",
    "        stretch_direction = \"right\"\n",
    "\n",
    "        # TODO: complete the directions from home to the event repeat page\n",
    "\n",
    "        start_location_found = False\n",
    "        start_im = None\n",
    "        level_last_search = []\n",
    "\n",
    "        # search for the start of the event\n",
    "        while not start_location_found:\n",
    "            level_current_search = []\n",
    "            level_locations = gio.locate_image(self.image_map[f'home_event_{event_type}_level_icon'],\n",
    "                                               region=self.location_map['home'].to_bounding(), multi=True)\n",
    "            for _loc in level_locations:\n",
    "                loc = _loc.stretch(value=stretch_length,\n",
    "                                   direction=stretch_direction)\n",
    "                level_im = gio.get_location_image(loc)\n",
    "                level_name = gio.read_text(level_im, detail=0)\n",
    "                level_current_search.append(level_name)\n",
    "                if level_name == repeat_level:\n",
    "                    start_location_found = True\n",
    "                    start_im = level_im\n",
    "                    break\n",
    "\n",
    "            self.scroll()\n",
    "\n",
    "            # if we are not finding new levels that match the search, return False\n",
    "            if set(level_last_search) == set(level_current_search) and start_location_found is False:\n",
    "                self.logger.info(f\"Cannot find level {repeat_level}\")\n",
    "                return False\n",
    "            else:\n",
    "                level_last_search = level_current_search\n",
    "\n",
    "        gio.locate_image_and_click(\n",
    "            start_im, region=self.location_map['home'].to_bounding(), loop=True, confidence=0.95)\n",
    "        gio.locate_image_and_click(self.image_map[f'home_event_start'],\n",
    "                                   region=self.location_map['home'].to_bounding(), loop=True, confidence=0.95)\n",
    "\n",
    "        event_continue = True\n",
    "        while event_continue:\n",
    "            event_continue = gio.locate_image_and_click(self.image_map[f'home_event_restart'],\n",
    "                                                        region=self.location_map['home'].to_bounding(\n",
    "            ),\n",
    "                loop=True, confidence=0.95, timeout=18, delay=10)\n",
    "\n",
    "        self.logger.info(f\"repeating event {event_type} end\")\n",
    "        #\n",
    "        self.exit_to_home()\n",
    "\n",
    "    def rookie_arena_get_enemy_information(self):\n",
    "        ras = self.game_settings.get('rookie_arena', {}).get('var')\n",
    "        if not ras:\n",
    "            self.logger.info('Cannot find settings for rookie arena')\n",
    "            return None\n",
    "        enemy_info = {}\n",
    "\n",
    "        fight_locs = gio.locate_image(self.image_map['home_ark_arena_rookie_free'],\n",
    "                                      region=self.location_map['home'].to_bounding(), confidence=0.8, multi=True)\n",
    "        if not fight_locs:\n",
    "            return False\n",
    "\n",
    "        timeout = 3\n",
    "        if len(fight_locs) < 3:\n",
    "            for i in range(3):\n",
    "                fight_locs = gio.locate_image(self.image_map['home_ark_arena_rookie_free'],\n",
    "                                              region=self.location_map['home'].to_bounding(), confidence=0.7, multi=True)\n",
    "                gio.delay(1)\n",
    "                if len(fight_locs) == 3:\n",
    "                    break\n",
    "\n",
    "        for ind, fight_loc in enumerate(fight_locs):\n",
    "            enemy_info[ind] = {}\n",
    "            enemy_info[ind]['fight_loc'] = fight_loc\n",
    "\n",
    "        rank_locs = gio.locate_image(self.image_map['home_ark_arena_rookie_star'],\n",
    "                                     region=self.location_map['home'].to_bounding(), confidence=0.7, multi=True)\n",
    "        if rank_locs:\n",
    "            for ind, rank_loc in enumerate(rank_locs):\n",
    "                r = rank_loc.stretch(ras['ENEMY_RANK_H_STRETCH'], in_place=True\n",
    "                                     ).stretch(ras['ENEMY_RANK_V_STRETCH'], axis=1, direction='up'\n",
    "                                               ).translate(ras['ENEMY_RANK_H_TRANS'], ras['ENEMY_RANK_V_TRANS'])\n",
    "                r_img = gio.get_location_image(r)\n",
    "                r_rank = gio.read_number(r_img, l=1)\n",
    "                enemy_info[ind]['rank'] = r_rank\n",
    "\n",
    "        power_level_locs = gio.locate_image(self.image_map['home_ark_arena_rookie_enemy_power_level'],\n",
    "                                            region=self.location_map['home'].to_bounding(), confidence=0.7, multi=True)\n",
    "\n",
    "        if power_level_locs:\n",
    "            for ind, power_level_loc in enumerate(power_level_locs):\n",
    "                p = power_level_loc.stretch(ras['ENEMY_POWER_H_STRETCH'], in_place=True\n",
    "                                            ).stretch(ras['ENEMY_POWER_V_STRETCH'], axis=1, direction='up'\n",
    "                                                      ).translate(ras['ENEMY_POWER_H_TRANS'], ras['ENEMY_POWER_V_TRANS'])\n",
    "                p_img = gio.get_location_image(p)\n",
    "                p_rank = gio.read_number(p_img, l=1)\n",
    "                enemy_info[ind]['power_level'] = p_rank\n",
    "\n",
    "        return enemy_info\n",
    "\n",
    "    def rookie_arena_get_self_information(self):\n",
    "        ras = self.game_settings.get('rookie_arena', {}).get('var')\n",
    "        if not ras:\n",
    "            self.logger.info('Cannot find settings for rookie arena')\n",
    "            return None\n",
    "        self_info = {}\n",
    "\n",
    "        rank_loc = gio.locate_image(self.image_map['home_ark_arena_rookie_star_self'],\n",
    "                                    region=self.location_map['home'].to_bounding(), confidence=0.7)\n",
    "        if rank_loc:\n",
    "            r = rank_loc.stretch(ras['SELF_RANK_H_STRETCH'], in_place=True\n",
    "                                 ).stretch(ras['SELF_RANK_V_STRETCH'], axis=1, direction='up'\n",
    "                                           ).translate(ras['SELF_RANK_H_TRANS'], ras['SELF_RANK_V_TRANS'])\n",
    "            r_img = gio.get_location_image(r)\n",
    "            r_rank = gio.read_number(r_img, l=1)\n",
    "            self_info['rank'] = r_rank\n",
    "\n",
    "        power_level_loc = gio.locate_image(self.image_map['home_ark_arena_rookie_power_level'],\n",
    "                                           region=self.location_map['home'].to_bounding(), confidence=0.7, multi=True)\n",
    "\n",
    "        if power_level_loc:\n",
    "            power_level_loc = power_level_loc[1] if len(\n",
    "                power_level_loc) > 1 else power_level_loc[0]\n",
    "            p = power_level_loc.stretch(ras['SELF_POWER_H_STRETCH'], in_place=True\n",
    "                                        ).stretch(ras['SELF_POWER_V_STRETCH'], axis=1, direction='up'\n",
    "                                                  ).translate(ras['SELF_POWER_H_TRANS'], ras['SELF_POWER_V_TRANS'])\n",
    "            p_img = gio.get_location_image(p)\n",
    "            p_rank = gio.read_number(p_img, l=1)\n",
    "            self_info['power_level'] = p_rank\n",
    "        return self_info\n",
    "\n",
    "    def select_opponent(self, self_info, enemy_info, max_power_level_gap=1000):\n",
    "        self.logger.info('Selecting opponent...')\n",
    "        self.logger.debug('My information')\n",
    "        self.logger.debug(self_info)\n",
    "        self.logger.debug('Opponent information')\n",
    "        self.logger.debug(enemy_info)\n",
    "        optimal_opponent = None\n",
    "        average_rank = None\n",
    "        average_power_level = None\n",
    "        rank_list = [enemy['rank']\n",
    "                     for ind, enemy in enemy_info.items() if enemy.get('rank')]\n",
    "        if len(rank_list) == 3:\n",
    "            average_rank = np.mean(rank_list)\n",
    "        power_level_list = [enemy['power_level'] for ind,\n",
    "                            enemy in enemy_info.items() if enemy.get('power_level')]\n",
    "        if len(power_level_list) == 3:\n",
    "            average_power_level = np.mean(power_level_list)\n",
    "\n",
    "        rank_valid = False\n",
    "        power_level_valid = False\n",
    "\n",
    "        if self_info.get('rank') and average_rank and abs(self_info.get('rank') - average_rank)/self_info.get('rank') < 2:\n",
    "            rank_valid = True\n",
    "        if self_info.get('power_level') and average_power_level and abs(self_info.get('power_level') - average_power_level)/self_info.get('power_level') < 2:\n",
    "            power_level_valid = True\n",
    "\n",
    "        if rank_valid and power_level_valid:\n",
    "            self.logger.info('Opponent information valid')\n",
    "            for ind, enemy in enemy_info.items():\n",
    "                if enemy['power_level'] - self_info['power_level'] > max_power_level_gap:\n",
    "                    continue\n",
    "                if not optimal_opponent:\n",
    "                    optimal_opponent = enemy\n",
    "                else:\n",
    "                    if enemy.get('rank') > optimal_opponent.get('rank'):\n",
    "                        optimal_opponent = enemy\n",
    "        elif power_level_valid:\n",
    "            self.logger.warning('Opponent rank information invalid')\n",
    "            self.logger.warning('Selecting based on power level only')\n",
    "            for ind, enemy in enemy_info.items():\n",
    "                if enemy['power_level'] - self_info['power_level'] > max_power_level_gap:\n",
    "                    continue\n",
    "                if not optimal_opponent:\n",
    "                    optimal_opponent = enemy\n",
    "                else:\n",
    "                    if enemy.get('power_level') > optimal_opponent.get('power_level'):\n",
    "                        optimal_opponent = enemy\n",
    "        else:\n",
    "            self.logger.warning(\n",
    "                'Opponent information invalid. Selecting middle opponent')\n",
    "            optimal_opponent = enemy_info.get(1)\n",
    "\n",
    "        if optimal_opponent:\n",
    "            self.logger.info(\n",
    "                f\"Opponent select with power level {optimal_opponent.get('power_level')} and rank {optimal_opponent.get('rank')}\")\n",
    "        else:\n",
    "            self.logger.error('unable to detect opponent')\n",
    "        return optimal_opponent\n",
    "\n",
    "    def rookie_arena_single_session(self):\n",
    "        self.logger.info('Retrieving rookie arena information')\n",
    "        self_info = self.rookie_arena_get_self_information()\n",
    "        enemy_info = self.rookie_arena_get_enemy_information()\n",
    "\n",
    "        timeout = 2\n",
    "        wait_time = 0\n",
    "        # if no free fight, leave\n",
    "        while not enemy_info or not enemy_info[0].get('fight_loc'):\n",
    "            if wait_time > timeout:\n",
    "                self.logger.info('No more free battle available')\n",
    "                return False\n",
    "            gio.delay(1)\n",
    "            self.logger.info('Seems like no more free battles. Retrying...')\n",
    "            enemy_info = self.rookie_arena_get_enemy_information()\n",
    "            wait_time += 1\n",
    "\n",
    "        # select opponent based on information\n",
    "        self.logger.info('Selected opponent')\n",
    "        optimal_opponent = self.select_opponent(\n",
    "            self_info, enemy_info, max_power_level_gap=1000)\n",
    "\n",
    "        gio.locate_image_and_click(self.image_map['home_ark_arena_rookie_free'],\n",
    "                                   region=optimal_opponent['fight_loc'].to_bounding(), loop=True, timeout=3)\n",
    "\n",
    "        # start fight\n",
    "        if gio.locate_image_and_click(self.image_map['home_ark_arena_rookie_fight'],\n",
    "                                      region=self.location_map['home'].to_bounding(), loop=True):\n",
    "            self.logger.info('Battle session started')\n",
    "\n",
    "        # wait for arena to load\n",
    "        gio.delay(3)\n",
    "\n",
    "        # wait for fight to finish\n",
    "        while not self.rookie_arena_get_self_information():\n",
    "            if not gio.locate_image_and_click(self.image_map['home_ark_arena_rookie_arena_end'],\n",
    "                                              region=self.location_map['home'].to_bounding(), loop=True, timeout=3):\n",
    "                self.logger.info('Waiting for battle session to finish')\n",
    "            else:\n",
    "                self.logger.info('Battle session ended')\n",
    "\n",
    "            gio.delay(5)\n",
    "        gio.delay(5)\n",
    "        return True\n",
    "\n",
    "    def rookie_arena(self):\n",
    "        self.logger.info(\"rookie arena run start\")\n",
    "\n",
    "        if not gio.locate_image_and_click(self.image_map['home_ark'],\n",
    "                                          region=self.location_map['home'].to_bounding(), loop=True, timeout=3):\n",
    "            self.logger.warning(\n",
    "                \"rookie arena ark icon is not found, retrying at home...\")\n",
    "            self.exit_to_home()\n",
    "            if not gio.locate_image_and_click(self.image_map['home_ark'],\n",
    "                                          region=self.location_map['home'].to_bounding(), loop=True, timeout=3):\n",
    "                self.logger.warning(\n",
    "                    \"rookie arena run failed because the ark icon is not found\")\n",
    "                return False\n",
    "        gio.delay(2)\n",
    "        if not gio.locate_image_and_click(self.image_map['home_ark_arena'],\n",
    "                                          region=self.location_map['home'].to_bounding(), loop=True, timeout=3):\n",
    "            self.logger.warning(\n",
    "                \"rookie arena run failed because the arena icon is not found\")\n",
    "            return False\n",
    "        gio.delay(2)\n",
    "        if not gio.locate_image_and_click(self.image_map['home_ark_arena_rookie'],\n",
    "                                          region=self.location_map['home'].to_bounding(), loop=True, timeout=3):\n",
    "            self.logger.warning(\n",
    "                \"rookie arena run failed because the rookie area icon is not found\")\n",
    "            return False\n",
    "        gio.delay(2)\n",
    "        free_arena_available = True\n",
    "\n",
    "        while free_arena_available:\n",
    "            # retrieve arena information\n",
    "            free_arena_available = self.rookie_arena_single_session()\n",
    "\n",
    "        self.logger.info(\"rookie arena run end\")\n",
    "        self.exit_to_home()\n",
    "\n",
    "    def arena_claim_special_arena_points(self):\n",
    "        pass\n",
    "\n",
    "    def normal_shop_refresh(self, free=True):\n",
    "        \"\"\"\n",
    "        try to refresh a normal shop\n",
    "        \"\"\"\n",
    "        self.logger.info('Tryin to refresh normal shop')\n",
    "        if not gio.locate_image_and_click(self.image_map['home_shop_refresh'],\n",
    "                                          region=self.location_map['home'].to_bounding(\n",
    "        ),\n",
    "                loop=True, timeout=3):\n",
    "            self.logger.info('Could not find refresh button')\n",
    "            return False\n",
    "        if free:\n",
    "            if not gio.locate_image_and_click(self.image_map['home_shop_cost_0'],\n",
    "                                              region=self.location_map['home'].to_bounding(\n",
    "            ),\n",
    "                    confidence=0.95, loop=True, timeout=3):\n",
    "                gio.locate_image_and_click(self.image_map['cancel'],\n",
    "                                           region=self.location_map['home'].to_bounding(\n",
    "                ),\n",
    "                    loop=True, timeout=3)\n",
    "                self.logger.info('The refresh is not free')\n",
    "                return False\n",
    "        if not gio.locate_image_and_click(self.image_map['confirm'],\n",
    "                                          region=self.location_map['home'].to_bounding(\n",
    "        ),\n",
    "                loop=True, timeout=3):\n",
    "            gio.locate_image_and_click(self.image_map['cancel'],\n",
    "                                       region=self.location_map['home'].to_bounding(\n",
    "            ),\n",
    "                loop=True, timeout=3)\n",
    "            self.logger.info('Could not refresh the normal shop')\n",
    "            return False\n",
    "\n",
    "        return True\n",
    "\n",
    "    def normal_shop_buy_item(self, free=True):\n",
    "        if free:\n",
    "            if not gio.locate_image_and_click(self.image_map['home_shop_sale_100'],\n",
    "                                              region=self.location_map['home'].to_bounding(\n",
    "            ),\n",
    "                    confidence=0.95, loop=True, timeout=3):\n",
    "                self.logger.info('Cannot find free item')\n",
    "                return False\n",
    "            if not gio.locate_image_and_click(self.image_map['home_shop_buy_100'],\n",
    "                                              region=self.location_map['home'].to_bounding(\n",
    "            ),\n",
    "                    confidence=0.95, loop=True, timeout=3):\n",
    "                self.logger.info('Item to purchase does not seem to be free')\n",
    "                gio.locate_image_and_click(self.image_map['cancel'],\n",
    "                                           region=self.location_map['home'].to_bounding(\n",
    "                ),\n",
    "                    loop=True, timeout=3)\n",
    "                return False\n",
    "            if not gio.locate_image_and_click(self.image_map['confirm'], region=self.location_map['home'].to_bounding()):\n",
    "                self.logger.info('Cannot find confirmation to purchase')\n",
    "                gio.locate_image_and_click(self.image_map['cancel'],\n",
    "                                           region=self.location_map['home'].to_bounding(\n",
    "                ),\n",
    "                    loop=True, timeout=3)\n",
    "                return False\n",
    "            if not gio.locate_image_and_click(self.image_map['reward'], region=self.location_map['home'].to_bounding(),\n",
    "                                              loop=True, timeout=3):\n",
    "                self.logger.info('Could not claim reward')\n",
    "                return False\n",
    "            gio.delay(1)\n",
    "        return True\n",
    "\n",
    "    def normal_shop(self):\n",
    "        \"\"\"\n",
    "        A daily shopping session to buy free material at the shop\n",
    "        Refreshes for free if no free material\n",
    "        Stops if no more free materials\n",
    "        \"\"\"\n",
    "        self.logger.info('Normal shop session started...')\n",
    "\n",
    "        # if no shop starting point available exit home\n",
    "        if not gio.locate_image_and_click(self.image_map['home_shop'], region=self.location_map['home'].to_bounding()):\n",
    "            self.logger.info(\n",
    "                'Could not find shop entrance, exiting home to restart')\n",
    "            self.exit_to_home()\n",
    "            # if still no shop detected, return false\n",
    "            if not gio.locate_image_and_click(self.image_map['home_shop'], region=self.location_map['home'].to_bounding()):\n",
    "                self.logger.info('Could not find shop entrance, session ended')\n",
    "                return False\n",
    "\n",
    "        shop_session = True\n",
    "        item_available = False\n",
    "        items_shopped = 0\n",
    "        while shop_session:\n",
    "            item_available = self.normal_shop_buy_item()\n",
    "            if not item_available:\n",
    "                shop_session = self.normal_shop_refresh()\n",
    "            else:\n",
    "                items_shopped += 1\n",
    "                self.logger.info('Bought one item for free')\n",
    "\n",
    "        self.logger.info(\n",
    "            f'Shopping session ended. Bought in total of {items_shopped} items.')\n",
    "        self.exit_to_home()\n",
    "\n",
    "    def claim_nikke_rehab_reward_single_session(self):\n",
    "        self.logger.info('Started single round of rehab reward claiming...')\n",
    "        if not gio.locate_image_and_click(self.image_map['home_outpost_elevator_rehab_home'],\n",
    "                                          region=self.location_map['home'].to_bounding(\n",
    "        ),\n",
    "                loop=True, timeout=20, button=None):\n",
    "            self.logger.info('Could not reach rehab home')\n",
    "            return False\n",
    "\n",
    "        r_reward_loc = gio.locate_image(self.image_map['home_outpost_elevator_rehab_complete_r'],\n",
    "                                        region=self.location_map['home'].to_bounding(), multi=True)\n",
    "        sr_reward_loc = gio.locate_image(self.image_map['home_outpost_elevator_rehab_complete_sr'],\n",
    "                                         region=self.location_map['home'].to_bounding(), multi=True)\n",
    "        ssr_reward_loc = gio.locate_image(self.image_map['home_outpost_elevator_rehab_complete_ssr'],\n",
    "                                          region=self.location_map['home'].to_bounding(), multi=True)\n",
    "\n",
    "        r_reward_loc = r_reward_loc if r_reward_loc is not None else []\n",
    "        sr_reward_loc = sr_reward_loc if sr_reward_loc is not None else []\n",
    "        ssr_reward_loc = ssr_reward_loc if ssr_reward_loc is not None else []\n",
    "\n",
    "        expected_reward_count = 3\n",
    "        total_reward_count = len(r_reward_loc) + \\\n",
    "            len(sr_reward_loc) + len(ssr_reward_loc)\n",
    "\n",
    "        for r_loc in r_reward_loc:\n",
    "            gio.mouse_left_click(r_loc.coord())\n",
    "            self.conversation()\n",
    "        for r_loc in sr_reward_loc:\n",
    "            gio.mouse_left_click(r_loc.coord())\n",
    "            self.conversation()\n",
    "        for r_loc in ssr_reward_loc:\n",
    "            gio.mouse_left_click(r_loc.coord())\n",
    "            self.conversation()\n",
    "\n",
    "        if total_reward_count < expected_reward_count:\n",
    "            self.logger.info(\n",
    "                f'there are {expected_reward_count - total_reward_count} rewards that needs manual intervention to claim')\n",
    "        elif total_reward_count > expected_reward_count:\n",
    "            self.logger.warning(\n",
    "                f'there are unexpected amount of {total_reward_count} when the maximum expected reward count is {expected_reward_count}')\n",
    "\n",
    "        self.logger.info(\n",
    "            f'Successfully claimed {total_reward_count} rehab rewards')\n",
    "\n",
    "        return total_reward_count\n",
    "\n",
    "    def claim_nikke_rehab_reward(self):\n",
    "        self.logger.info('Claiming rehab reward session started...')\n",
    "\n",
    "        # if no shop starting point available exit home\n",
    "        if not gio.locate_image_and_click(self.image_map['home_outpost'],\n",
    "                                          region=self.location_map['home'].to_bounding(\n",
    "        ),\n",
    "                loop=True, timeout=3):\n",
    "            self.logger.info(\n",
    "                'Could not find rehab entrance, exiting home to restart')\n",
    "            self.exit_to_home()\n",
    "            # if still no shop detected, return false\n",
    "            if not gio.locate_image_and_click(self.image_map['home_outpost'],\n",
    "                                              region=self.location_map['home'].to_bounding(\n",
    "            ),\n",
    "                    loop=True):\n",
    "                self.logger.info(\n",
    "                    'Could not find rehab entrance, session ended')\n",
    "                return False\n",
    "\n",
    "        if not gio.locate_image_and_click(self.image_map['home_outpost_elevator'],\n",
    "                                          region=self.location_map['home'].to_bounding(\n",
    "        ),\n",
    "                loop=True):\n",
    "            self.logger.info('Could not find elevator entrance')\n",
    "            return False\n",
    "\n",
    "        if not gio.locate_image_and_click(self.image_map['home_outpost_elevator_enter'],\n",
    "                                          region=self.location_map['home'].to_bounding(\n",
    "        ),\n",
    "                loop=True):\n",
    "            self.logger.info('Could enter elevator')\n",
    "            return False\n",
    "\n",
    "        reward_count = self.claim_nikke_rehab_reward_single_session()\n",
    "\n",
    "        self.logger.info(f'Rehab reward claiming ended.')\n",
    "        self.exit_to_home()\n",
    "\n",
    "    def get_buff_location(self):\n",
    "        buff_rarity = ['r', 'sr', 'ssr', 'epic']\n",
    "        buff_size = ['s', 'm', 'l']\n",
    "        buff_loc_list = []\n",
    "        for rarity in buff_rarity:\n",
    "            for size in buff_size:\n",
    "                buff_im = self.image_map.get(f'home_ark_simulation_room_buff_rarity_{rarity}_{size}')\n",
    "                if buff_im:\n",
    "                    buff_locs = gio.locate_image(buff_im,\n",
    "                                                 region=self.location_map['home'].to_bounding(), confidence=0.9, multi=True)\n",
    "                    if buff_locs:\n",
    "                        buff_loc_list.extend(buff_locs)\n",
    "        buff_loc_list = gio.non_maximum_suppresion(buff_loc_list, threshold=0.1)\n",
    "        buff_loc_list = [buff_loc.stretch(440) for buff_loc in buff_loc_list]\n",
    "        return buff_loc_list\n",
    "\n",
    "    def simulation_room_select_buff_simple(self, buff_locs):\n",
    "        buff_info = {}\n",
    "        buff_selected = None\n",
    "        buff_types = [\"boss\", \"choice\", \"heal\", \"normal\", \"upgrade\"]\n",
    "        buff_subtypes = [\"attack\", \"survival\", \"strategic\", \"circle\", \"square\", \"diamond\", \"triangle\", \"mixed\"]\n",
    "        for ind, buff_loc in enumerate(buff_locs):\n",
    "            info = {}\n",
    "            info['loc'] = buff_loc\n",
    "            buff_im = gio.get_location_image(buff_loc)\n",
    "            buff_types = [\"boss\", \"choice\", \"heal\", \"normal\", \"upgrade\"]\n",
    "            for buff_type in buff_types:\n",
    "                is_buff_type = gio.exist_image(self.image_map[f'home_ark_simulation_room_buff_type_{buff_type}'],\n",
    "                                         master_image_path=buff_im)\n",
    "                if is_buff_type:\n",
    "                    info['buff_type'] = buff_type\n",
    "                    break\n",
    "            for buff_subtype in buff_subtypes:\n",
    "                is_buff_subtype = gio.exist_image(self.image_map[f'home_ark_simulation_room_buff_subtype_{buff_subtype}'],\n",
    "                                         master_image_path=buff_im)\n",
    "                if is_buff_subtype:\n",
    "                    info['buff_subtype'] = buff_subtype\n",
    "                    break\n",
    "            buff_info[ind] = info\n",
    "\n",
    "        buff_types_info = [info['buff_type'] for ind, info in buff_info.items()]\n",
    "        if 'boss' in buff_types_info:\n",
    "            ind = buff_types_info.index('boss')\n",
    "            buff_selected = buff_info[ind]\n",
    "        elif 'upgrade' in buff_types_info:\n",
    "            ind = buff_types_info.index('upgrade')\n",
    "            buff_selected = buff_info[ind]\n",
    "        elif 'heal' in buff_types_info:\n",
    "            ind = buff_types_info.index('heal')\n",
    "            buff_selected = buff_info[ind]\n",
    "        elif 'choice' in buff_types_info:\n",
    "            ind = buff_types_info.index('choice')\n",
    "            buff_selected = buff_info[ind]\n",
    "        elif 'normal' in buff_types_info:\n",
    "            buff_subtypes_info =  [info['buff_subtype'] for ind, info in buff_info.items()]\n",
    "            if 'strategy' in buff_subtypes_info:\n",
    "                ind = buff_subtypes_info.index('strategy')\n",
    "                buff_selected = buff_info[ind]\n",
    "            elif 'survival' in buff_subtypes_info:\n",
    "                ind = buff_subtypes_info.index('survival')\n",
    "                buff_selected = buff_info[ind]\n",
    "            else:\n",
    "                buff_selected = buff_info[0]\n",
    "\n",
    "        self.logger.info(f'selected buff {buff_selected}')\n",
    "\n",
    "        return buff_selected\n",
    "\n",
    "\n",
    "    def simulation_room_select_buff(self, buff_locs, select_func=None, buff_history=None):\n",
    "        if not buff_locs:\n",
    "            return False\n",
    "        if not select_func:\n",
    "            buff_info = {'loc':buff_locs[0]}\n",
    "            return buff_info\n",
    "        else:\n",
    "            buff_info = select_func(buff_locs)\n",
    "        return buff_info\n",
    "\n",
    "\n",
    "    def simulation_room_get_buff_count(self, loc):\n",
    "        buff_types = [\"boss\", \"choice\", \"heal\", \"normal\", \"upgrade\"]\n",
    "        buff_count = 0\n",
    "        for buff_type in buff_types:\n",
    "            buff_locs = gio.locate_image(self.image_map[f'home_ark_simulation_room_buff_type_{buff_type}'],\n",
    "                                         region=loc.to_bounding(), multi=True, multi_threshold=0.5)\n",
    "            if buff_locs:\n",
    "                buff_count += len(buff_locs)\n",
    "        return buff_count\n",
    "\n",
    "    def simulation_room_get_buff_selection(self):\n",
    "        buff_icon_loc = gio.locate_image(self.image_map['home_ark_simulation_room_buff_buff_select_icon'],\n",
    "                                         region=self.location_map['home'].to_bounding())\n",
    "        if not buff_icon_loc:\n",
    "            return False\n",
    "\n",
    "        three_buff_loc = buff_icon_loc.translate(-118, 181).resize(480, 240)\n",
    "\n",
    "        buff_count = self.simulation_room_get_buff_count(three_buff_loc)\n",
    "        buff_locs = []\n",
    "\n",
    "        if buff_count == 3:\n",
    "            buff_1_loc = three_buff_loc.translate(0, 0).resize(160, 240)\n",
    "            buff_2_loc = three_buff_loc.translate(160, 0).resize(160, 240)\n",
    "            buff_3_loc = three_buff_loc.translate(320, 0).resize(160, 240)\n",
    "            buff_locs = [buff_1_loc, buff_2_loc, buff_3_loc]\n",
    "        elif buff_count == 2:\n",
    "            buff_1_loc = three_buff_loc.translate(80, 0).resize(160, 240)\n",
    "            buff_2_loc = three_buff_loc.translate(240, 0).resize(160, 240)\n",
    "            buff_locs = [buff_1_loc, buff_2_loc]\n",
    "        elif buff_count == 1:\n",
    "            buff_1_loc = three_buff_loc.translate(160, 0).resize(160, 240)\n",
    "            buff_locs = [buff_1_loc]\n",
    "\n",
    "        return buff_locs\n",
    "    \n",
    "    def simulation_room_choose_substitute_buff_simple(self, buff_locations):\n",
    "        buff_info = {}\n",
    "        buff_locations = sorted(buff_locations, key=lambda item: item.height, reverse=True)\n",
    "        return buff_locations[0], buff_info\n",
    "    \n",
    "    def simulation_room_choose_limit_replace_simple(self, buff_locations):\n",
    "        buff_info = {}\n",
    "        buff_locations = sorted(buff_locations, key=lambda item: item.height, reverse=True)\n",
    "        return buff_locations[2], buff_info\n",
    "    \n",
    "    def simulation_room_obtain_buff_choose(self, buff_locations, decision_func=None):\n",
    "        if not buff_locations:\n",
    "            return None, {}\n",
    "        buff_info = {}\n",
    "        if not decision_func:\n",
    "            return buff_locations[0], buff_info\n",
    "        else:\n",
    "            buff_location, buff_info = decision_func(buff_locations)\n",
    "            return buff_location, buff_info\n",
    "\n",
    "\n",
    "    def simulation_room_obtain_buff(self, decision_func=None):\n",
    "        self.logger.info('selecting the buff to obtain...')\n",
    "        buff_locations = self.get_buff_location()\n",
    "        buff_location, buff_info = self.simulation_room_obtain_buff_choose(buff_locations, decision_func)\n",
    "        if buff_location:\n",
    "            gio.mouse_center_click(buff_location)\n",
    "            gio.locate_image_and_click(self.image_map['home_ark_simulation_room_buff_confirm'],\n",
    "                                        region=self.location_map['home'].to_bounding(),\n",
    "                                        loop=True, timeout=3)\n",
    "        else:\n",
    "            self.logger.info('cannot choose buff any further')\n",
    "            return False\n",
    "        return buff_info\n",
    "\n",
    "\n",
    "    def simulation_room_battle_session(self):\n",
    "        quick_battle = gio.locate_image_and_click(self.image_map['home_ark_simulation_room_quick_battle'],\n",
    "                                        region=self.location_map['home'].to_bounding(),\n",
    "                                        loop=True, timeout=3)\n",
    "        if not quick_battle:\n",
    "            if not gio.locate_image_and_click(self.image_map['home_ark_simulation_room_battle'],\n",
    "                                            region=self.location_map['home'].to_bounding(),\n",
    "                                            loop=True):\n",
    "                self.logger.info('could not enter battle')\n",
    "                return False\n",
    "            self.logger.info('waiting for battle session to end...')\n",
    "            if not gio.locate_image_and_click(self.image_map['home_ark_simulation_room_battle_end'],\n",
    "                                            region=self.location_map['home'].to_bounding(),\n",
    "                                            loop=True, delay=10, timeout=18):\n",
    "                self.logger.info('could not end battle')\n",
    "                return False\n",
    "        gio.delay(2)\n",
    "        self.logger.info('battle session ended')\n",
    "        return True\n",
    "\n",
    "    def simulation_room_select_buff_secondary_action(self, buff_info):\n",
    "        buff_type = buff_info.get('buff_type')\n",
    "        if buff_type and buff_type in ['heal', 'choice', 'upgrade']:\n",
    "            self.logger.info(f\"selecting a secondary action for the buff with buff type {buff_type}\")\n",
    "            actions = gio.locate_image(self.image_map[f'home_ark_simulation_room_buff_{buff_type}_{buff_type}_icon'],\n",
    "                                            region=self.location_map['home'].to_bounding(), multi=True)\n",
    "            if not actions:\n",
    "                self.logger.warning(f'could not follow up on buff selection with buff type {buff_type}')\n",
    "                gio.locate_image_and_click(self.image_map[f'home_ark_simulation_room_buff_cancel'],\n",
    "                                            region=self.location_map['home'].to_bounding(),\n",
    "                                            loop=True, timeout=3)\n",
    "            else:\n",
    "                gio.mouse_center_click(actions[0])\n",
    "            gio.delay(1)\n",
    "            gio.locate_image_and_click(self.image_map[f'confirm'],\n",
    "                                        region=self.location_map['home'].to_bounding(),\n",
    "                                        loop=True, timeout=3)\n",
    "            gio.delay(1)\n",
    "            if buff_type == 'heal':\n",
    "                gio.locate_image_and_click(self.image_map[f'confirm'],\n",
    "                                        region=self.location_map['home'].to_bounding(),\n",
    "                                        loop=True, timeout=5)\n",
    "            elif buff_type == 'choice':\n",
    "                gio.locate_image_and_click(self.image_map[f'confirm'],\n",
    "                                        region=self.location_map['home'].to_bounding(),\n",
    "                                        loop=True, timeout=5)\n",
    "            elif buff_type == 'upgrade':\n",
    "                gio.locate_image_and_click(self.image_map[f'confirm'],\n",
    "                                        region=self.location_map['home'].to_bounding(),\n",
    "                                        loop=True, timeout=5)        \n",
    "            return True\n",
    "        else:\n",
    "            return False\n",
    "            \n",
    "            \n",
    "    \n",
    "    def simulation_room_single_battle(self, buff_list = []):\n",
    "        buff_locs = self.simulation_room_get_buff_selection()\n",
    "        self.logger.info('single simulation battle started...')\n",
    "        if buff_locs:\n",
    "            self.logger.info('arrvied at challenge selection')\n",
    "            buff_info = self.simulation_room_select_buff(buff_locs, select_func=self.simulation_room_select_buff_simple)\n",
    "            gio.mouse_center_click(buff_info.get('loc'))\n",
    "            buff_obtained = self.simulation_room_select_buff_secondary_action(buff_info)\n",
    "\n",
    "            battle_end = False\n",
    "            if not buff_obtained:\n",
    "                battle_end = self.simulation_room_battle_session()\n",
    "\n",
    "            if not battle_end and not buff_obtained:\n",
    "                self.logger.info('battle session failed')\n",
    "                return buff_list\n",
    "        \n",
    "        self.logger.info('started selecting buffs')\n",
    "        \n",
    "        buff = None\n",
    "        if gio.locate_image_and_click(self.image_map['home_ark_simulation_room_buff_obtain_buff_home'],\n",
    "                                    region=self.location_map['home'].to_bounding(),\n",
    "                                    loop=True, timeout=5, button=None):\n",
    "            self.logger.info('reached buff select window')\n",
    "            buff = self.simulation_room_obtain_buff()\n",
    "        elif gio.locate_image_and_click(self.image_map['home_ark_simulation_room_buff_change_buff_home'],\n",
    "                                    region=self.location_map['home'].to_bounding(),\n",
    "                                    loop=True, timeout=1, button=None):\n",
    "            buff = self.simulation_room_obtain_buff()\n",
    "            gio.locate_image_and_click(self.image_map[f'confirm'],\n",
    "                                                    region=self.location_map['home'].to_bounding(),\n",
    "                                                    loop=True, timeout=3) \n",
    "        elif gio.locate_image_and_click(self.image_map['home_ark_simulation_room_buff_alter_buff_home'],\n",
    "                                    region=self.location_map['home'].to_bounding(),\n",
    "                                    loop=True, timeout=1, button=None):\n",
    "            buff = self.simulation_room_obtain_buff()\n",
    "            gio.locate_image_and_click(self.image_map[f'confirm'],\n",
    "                                                    region=self.location_map['home'].to_bounding(),\n",
    "                                                    loop=True, timeout=3) \n",
    "            \n",
    "        if gio.locate_image_and_click(self.image_map['home_ark_simulation_room_buff_substitute_buff_home'],\n",
    "                                    region=self.location_map['home'].to_bounding(),\n",
    "                                    loop=True, timeout=5, button=None):\n",
    "            buff = self.simulation_room_obtain_buff(decision_func=self.simulation_room_choose_substitute_buff_simple)\n",
    "            gio.locate_image_and_click(self.image_map[f'confirm'],\n",
    "                                                    region=self.location_map['home'].to_bounding(),\n",
    "                                                    loop=True, timeout=3)\n",
    "        elif gio.locate_image_and_click(self.image_map['home_ark_simulation_room_buff_remove_buff_home'],\n",
    "                                    region=self.location_map['home'].to_bounding(),\n",
    "                                    loop=True, timeout=1, button=None):\n",
    "            buff = self.simulation_room_obtain_buff()\n",
    "            gio.locate_image_and_click(self.image_map[f'confirm'],\n",
    "                                                    region=self.location_map['home'].to_bounding(),\n",
    "                                                    loop=True, timeout=3)\n",
    "        elif gio.locate_image_and_click(self.image_map['home_ark_simulation_room_buff_limit_replace_buff_home'],\n",
    "                                    region=self.location_map['home'].to_bounding(),\n",
    "                                    loop=True, timeout=1, button=None):\n",
    "            buff = self.simulation_room_obtain_buff(decision_func=self.simulation_room_choose_limit_replace_simple)\n",
    "            gio.locate_image_and_click(self.image_map['confirm'],\n",
    "                                                    region=self.location_map['home'].to_bounding(),\n",
    "                                                    loop=True, timeout=3)\n",
    "        \n",
    "        self.logger.info('buff selection ended')\n",
    "        \n",
    "        if buff:    \n",
    "            buff_list.append(buff)\n",
    "        self.logger.info('single simulation battle ended, moving on...')\n",
    "        return buff_list\n",
    "\n",
    "    def simulation_room_single_run(self, difficulty=5, sector=\"C\", simulation_status='start'):\n",
    "        \"\"\"\n",
    "        perform simulation run at the given difficulty and level\n",
    "        default at difficulty 5 and sector C\n",
    "        \"\"\"\n",
    "        \n",
    "        # assuming starting at a random point in the game\n",
    "        # start a new simulation sesson at the given difficulty and level\n",
    "        sector = sector.lower()\n",
    "        \n",
    "        if simulation_status == 'start':\n",
    "            self.logger.info(\n",
    "                f'starting simulation run difficulty {difficulty} sector {sector}...')\n",
    "\n",
    "            if not gio.locate_image_and_click(self.image_map[f'home_ark_simulation_room_level_{difficulty}'],\n",
    "                                              region=self.location_map['home'].to_bounding(\n",
    "            ),\n",
    "                    loop=True):\n",
    "                self.logger.info(f'Could not find difficulty {difficulty}')\n",
    "                return False\n",
    "\n",
    "            if not gio.locate_image_and_click(self.image_map[f'home_ark_simulation_room_sector_{sector}'],\n",
    "                                              region=self.location_map['home'].to_bounding(\n",
    "            ),\n",
    "                    loop=True):\n",
    "                self.logger.info(f'Could not find sector {difficulty}')\n",
    "                return False\n",
    "\n",
    "            if not gio.locate_image_and_click(self.image_map[f'home_ark_simulation_room_start_session'],\n",
    "                                              region=self.location_map['home'].to_bounding(\n",
    "            ),\n",
    "                    loop=True):\n",
    "                self.logger.info(f'Could not start session')\n",
    "                return False\n",
    "        \n",
    "        # confirm that we are now inside the simulation\n",
    "        if not gio.locate_image_and_click(self.image_map[f'home_ark_simulation_room_end_session'],\n",
    "                                          region=self.location_map['home'].to_bounding(\n",
    "        ),\n",
    "                loop=True, button=None):\n",
    "            self.logger.info(f'Could not load simulation screen')\n",
    "            return False\n",
    "        \n",
    "        simulation_status = \"continue\"\n",
    "        buff_list = []\n",
    "        while simulation_status == \"continue\":\n",
    "            if gio.locate_image_and_click(self.image_map[f'home_ark_simulation_room_next_sector'],\n",
    "                                       region=self.location_map['home'].to_bounding(),\n",
    "                                       loop=True, timeout=3):\n",
    "                simulation_status = 'next_sector'\n",
    "                break\n",
    "            elif gio.locate_image_and_click(self.image_map[f'home_ark_simulation_room_end_simulation'],\n",
    "                                       region=self.location_map['home'].to_bounding(),\n",
    "                                       loop=True, timeout=1):\n",
    "                simulation_status = 'end_simulation'\n",
    "                gio.locate_image_and_click(self.image_map[f'confirm'],\n",
    "                                                       region=self.location_map['home'].to_bounding(),\n",
    "                                                       loop=True, timeout=3)                \n",
    "                gio.locate_image_and_click(self.image_map[f'home_ark_simulation_room_buff_pass'],\n",
    "                                       region=self.location_map['home'].to_bounding(),\n",
    "                                       loop=True, timeout=3)\n",
    "                gio.locate_image_and_click(self.image_map[f'confirm'],\n",
    "                                       region=self.location_map['home'].to_bounding(),\n",
    "                                       loop=True, timeout=3)\n",
    "                gio.locate_image_and_click(self.image_map[f'confirm'],\n",
    "                                                       region=self.location_map['home'].to_bounding(),\n",
    "                                                       loop=True, timeout=3)\n",
    "                break\n",
    "            else:\n",
    "                buff_list = self.simulation_room_single_battle(buff_list)\n",
    "        \n",
    "        self.logger.info(\n",
    "            f'Finished simulation run difficulty {difficulty} sector {sector}...')\n",
    "        return simulation_status\n",
    "\n",
    "    def simulation_room(self, difficulty=None, sector=None):\n",
    "        \"\"\"\n",
    "        perform simulation run\n",
    "        should start at the most reasonble level possible\n",
    "        \"\"\"\n",
    "        self.logger.info('Simulation room started...')\n",
    "    \n",
    "        if not difficulty or not sector:\n",
    "            settings = self.routine.get('simulation_room', {}).get('settings')\n",
    "            if settings:\n",
    "                difficulty = settings.get('difficulty')\n",
    "                sector = settings.get('sector')\n",
    "            if not difficulty or not sector:\n",
    "                difficulty = 1\n",
    "                sector = 'A'\n",
    "        \n",
    "\n",
    "        \n",
    "        # if no shop starting point available exit home\n",
    "        if not gio.locate_image_and_click(self.image_map['home_ark'],\n",
    "                                          region=self.location_map['home'].to_bounding(\n",
    "        ),\n",
    "                loop=True, timeout=3):\n",
    "            self.logger.info(\n",
    "                'Could not find ark entrance, exiting home to restart')\n",
    "            self.exit_to_home()\n",
    "            # if still no shop detected, return false\n",
    "            if not gio.locate_image_and_click(self.image_map['home_ark'],\n",
    "                                              region=self.location_map['home'].to_bounding(\n",
    "            ),\n",
    "                    loop=True):\n",
    "                self.logger.info(\n",
    "                    'Could not find ark entrance, session ended')\n",
    "                return False\n",
    "\n",
    "        gio.delay(3)\n",
    "\n",
    "        if not gio.locate_image_and_click(self.image_map['home_ark_simulation_room'],\n",
    "                                          region=self.location_map['home'].to_bounding(\n",
    "        ),\n",
    "                loop=True):\n",
    "            self.logger.info('Could not find simulation room entrance')\n",
    "            return False\n",
    "\n",
    "        if not gio.locate_image_and_click(self.image_map['home_ark_simulation_room_start'],\n",
    "                                          region=self.location_map['home'].to_bounding(\n",
    "        ),\n",
    "                loop=True):\n",
    "            self.logger.info('Could not start simulation')\n",
    "            return False\n",
    "        \n",
    "        simulation_status = self.simulation_room_single_run(difficulty, sector)\n",
    "        while simulation_status and simulation_status != 'end_simulation':\n",
    "            simulation_status = self.simulation_room_single_run(simulation_status=simulation_status)\n",
    "        \n",
    "        if not simulation_status:\n",
    "            self.logger.info(f'Simulation room ended with errors.')\n",
    "        \n",
    "        self.logger.info(f'Simulation room ended.')\n",
    "        self.exit_to_home()\n",
    "\n",
    "    def auto_daily(self, timeout=3):\n",
    "        self.logger.info(f'starting daily')\n",
    "        self.logger.info(\n",
    "            f'{len([r for k, r in self.routine.items() if (r.get(\"auto\") is True and r.get(\"frequency\") == \"daily\") ])} dailies to run')\n",
    "        prioritized_routine = self._sort_dict_by_value(\n",
    "            self.routine, \"priority\")\n",
    "        for key, r in prioritized_routine.items():\n",
    "            if r.get(\"auto\") is True and r.get(\"frequency\") == \"daily\":\n",
    "                func = getattr(self, r.get(\"name\"))\n",
    "                self.logger.info(f'running daily {r.get(\"name\")}')\n",
    "                for i in range(timeout):\n",
    "                    try:\n",
    "                        func()\n",
    "                        break\n",
    "                    except Exception as e:\n",
    "                        self.logger.error(f\"While trying daily {i+1} time {r.get('display_name')} the following error occured\")\n",
    "                        self.logger.error(e)\n",
    "                    \n",
    "\n",
    "    def test(self):\n",
    "        return locals()\n",
    "\n",
    "    def __repr__(self):\n",
    "        output_list = []\n",
    "        sep_long = \"\".join([\"*\" for i in range(40)])\n",
    "        sep_short = \" \".join([\"*\" for i in range(3)])\n",
    "        output_list.append(sep_long)\n",
    "        output_list.append('Agent Profile')\n",
    "        output_list.append(sep_long)\n",
    "        output_list.append('Agent Profile Name :{}'.format(self.profile_name))\n",
    "        output_list.append(sep_short)\n",
    "        output_list.append('Agent Description: {}'.format(self.desc))\n",
    "        output_list.append(sep_short)\n",
    "        output_list.append('Agent Type: {}'.format(self.type))\n",
    "        output_list.append(sep_short)\n",
    "        output_list.append('Agent Routine:')\n",
    "        output_list.append(json.dumps(self.routine, indent=2))\n",
    "        output_list.append(sep_short)\n",
    "        output_list.append('Agent Settings:')\n",
    "        output_list.append(json.dumps(self.settings, indent=2))\n",
    "        output_list.append(sep_short)\n",
    "        output_list.append(sep_long)\n",
    "        return \"\\n\".join(output_list)"
   ]
  },
  {
   "cell_type": "code",
   "execution_count": 107,
   "id": "35d9eac8",
   "metadata": {},
   "outputs": [
    {
     "data": {
      "text/plain": [
       "False"
      ]
     },
     "execution_count": 107,
     "metadata": {},
     "output_type": "execute_result"
    }
   ],
   "source": [
    "gio.locate_image_and_click(agent.image_map['home_ark_simulation_room_buff_obtain_buff_home'],\n",
    "                                    region=agent.location_map['home'].to_bounding(), button=None)"
   ]
  },
  {
   "cell_type": "markdown",
   "id": "ef8f2d99",
   "metadata": {},
   "source": [
    "## Select Active Window"
   ]
  },
  {
   "cell_type": "code",
   "execution_count": 47,
   "id": "c284bd82",
   "metadata": {},
   "outputs": [],
   "source": [
    "a = []"
   ]
  },
  {
   "cell_type": "code",
   "execution_count": 51,
   "id": "bcbb554a",
   "metadata": {},
   "outputs": [
    {
     "name": "stdout",
     "output_type": "stream",
     "text": [
      "[]\n"
     ]
    }
   ],
   "source": [
    "if not a:\n",
    "    print(a)"
   ]
  },
  {
   "cell_type": "code",
   "execution_count": 1443,
   "id": "d3faf342",
   "metadata": {},
   "outputs": [
    {
     "name": "stdout",
     "output_type": "stream",
     "text": [
      "a\n"
     ]
    }
   ],
   "source": [
    "if not loc_map:\n",
    "    print('a')"
   ]
  },
  {
   "cell_type": "code",
   "execution_count": 13,
   "id": "3eac3007",
   "metadata": {},
   "outputs": [],
   "source": [
    "app_name = \"NIKKE\""
   ]
  },
  {
   "cell_type": "code",
   "execution_count": null,
   "id": "d18f301a",
   "metadata": {},
   "outputs": [],
   "source": [
    "gio.resize_application(agent.)"
   ]
  },
  {
   "cell_type": "code",
   "execution_count": 68,
   "id": "fe2081f0",
   "metadata": {},
   "outputs": [
    {
     "name": "stdout",
     "output_type": "stream",
     "text": [
      "<Win32Window left=\"40\", top=\"148\", width=\"591\", height=\"1061\", title=\"NIKKE\">\n"
     ]
    }
   ],
   "source": [
    "print(app)"
   ]
  },
  {
   "cell_type": "code",
   "execution_count": 69,
   "id": "cf2ca8f4",
   "metadata": {
    "scrolled": true
   },
   "outputs": [],
   "source": [
    "im = gio.get_location_image(loc)"
   ]
  },
  {
   "cell_type": "code",
   "execution_count": 1264,
   "id": "6d4197a7",
   "metadata": {},
   "outputs": [],
   "source": [
    "loc = gio.locate_image(agent.image_map['home_ark_arena_rookie_star'],\n",
    "                region=agent.location_map['home'].to_bounding(), confidence=0.7, multi=True)"
   ]
  },
  {
   "cell_type": "code",
   "execution_count": null,
   "id": "500cc212",
   "metadata": {},
   "outputs": [],
   "source": [
    "#   0    Orientation and script detection (OSD) only.\n",
    "#   1    Automatic page segmentation with OSD.\n",
    "#   2    Automatic page segmentation, but no OSD, or OCR.\n",
    "#   3    Fully automatic page segmentation, but no OSD. (Default)\n",
    "#   4    Assume a single column of text of variable sizes.\n",
    "#   5    Assume a single uniform block of vertically aligned text.\n",
    "#   6    Assume a single uniform block of text.\n",
    "#   7    Treat the image as a single text line.\n",
    "#   8    Treat the image as a single word.\n",
    "#   9    Treat the image as a single word in a circle.\n",
    "#  10    Treat the image as a single character.\n",
    "#  11    Sparse text. Find as much text as possible in no particular order.\n",
    "#  12    Sparse text with OSD.\n",
    "#  13    Raw line. Treat the image as a single text line,\n",
    "#             bypassing hacks that are Tesseract-specific."
   ]
  },
  {
   "cell_type": "code",
   "execution_count": 95,
   "id": "44f83919",
   "metadata": {},
   "outputs": [],
   "source": [
    "import gc"
   ]
  },
  {
   "cell_type": "code",
   "execution_count": 123,
   "id": "77d17071",
   "metadata": {},
   "outputs": [
    {
     "ename": "NameError",
     "evalue": "name 'agent' is not defined",
     "output_type": "error",
     "traceback": [
      "\u001b[1;31m-----------------------------------------------------------------------\u001b[0m",
      "\u001b[1;31mNameError\u001b[0m                             Traceback (most recent call last)",
      "Input \u001b[1;32mIn [123]\u001b[0m, in \u001b[0;36m<cell line: 1>\u001b[1;34m()\u001b[0m\n\u001b[1;32m----> 1\u001b[0m \u001b[38;5;28;01mdel\u001b[39;00m agent\n\u001b[0;32m      2\u001b[0m gc\u001b[38;5;241m.\u001b[39mcollect()\n",
      "\u001b[1;31mNameError\u001b[0m: name 'agent' is not defined"
     ]
    }
   ],
   "source": [
    "del agent\n",
    "gc.collect()"
   ]
  },
  {
   "cell_type": "code",
   "execution_count": 124,
   "id": "3b850c8a",
   "metadata": {},
   "outputs": [
    {
     "data": {
      "text/plain": [
       "1692"
      ]
     },
     "execution_count": 124,
     "metadata": {},
     "output_type": "execute_result"
    }
   ],
   "source": [
    "gc.collect()"
   ]
  },
  {
   "cell_type": "markdown",
   "id": "5660f17f",
   "metadata": {},
   "source": [
    "## Routines"
   ]
  },
  {
   "cell_type": "code",
   "execution_count": 201,
   "id": "0b87d6f0",
   "metadata": {
    "scrolled": true
   },
   "outputs": [
    {
     "name": "stderr",
     "output_type": "stream",
     "text": [
      " 2023-02-22 22:58:19,571 - INFO - Loaded profile default profile\n",
      " 2023-02-22 22:58:19,572 - INFO - loaded default game settings\n",
      " 2023-02-22 22:58:19,573 - INFO - Detected PC version of Nikke\n",
      " 2023-02-22 22:58:19,573 - INFO - succesfully detected app window\n"
     ]
    }
   ],
   "source": [
    "agent = Agent(app_name=\"NIKKE\")"
   ]
  },
  {
   "cell_type": "code",
   "execution_count": 511,
   "id": "ac81b3e9",
   "metadata": {},
   "outputs": [
    {
     "name": "stderr",
     "output_type": "stream",
     "text": [
      " 2023-02-21 19:36:30,142 - INFO - Normal shop session started...\n",
      " 2023-02-21 19:36:42,177 - INFO - Bought one item for free\n",
      " 2023-02-21 19:36:46,569 - INFO - Cannot find free item\n",
      " 2023-02-21 19:36:46,570 - INFO - Tryin to refresh normal shop\n",
      " 2023-02-21 19:37:03,000 - INFO - Bought one item for free\n",
      " 2023-02-21 19:37:07,393 - INFO - Cannot find free item\n",
      " 2023-02-21 19:37:07,393 - INFO - Tryin to refresh normal shop\n",
      " 2023-02-21 19:37:16,183 - INFO - The refresh is not free\n",
      " 2023-02-21 19:37:16,183 - INFO - Shopping session ended. Bought in total of 2 items.\n",
      " 2023-02-21 19:37:16,183 - INFO - Exiting to home...\n"
     ]
    }
   ],
   "source": [
    "agent.normal_shop()"
   ]
  },
  {
   "cell_type": "code",
   "execution_count": 176,
   "id": "d1aa96c1",
   "metadata": {},
   "outputs": [
    {
     "name": "stderr",
     "output_type": "stream",
     "text": [
      " 2023-02-22 21:48:37,019 - INFO - Detected PC version of Nikke\n",
      " 2023-02-22 21:48:37,019 - INFO - succesfully detected app window\n"
     ]
    }
   ],
   "source": [
    "agent.resize_to_optimal()"
   ]
  },
  {
   "cell_type": "code",
   "execution_count": 54,
   "id": "3013245d",
   "metadata": {},
   "outputs": [
    {
     "name": "stderr",
     "output_type": "stream",
     "text": [
      " 2023-02-22 17:05:54,324 - INFO - Detected PC version of Nikke\n"
     ]
    },
    {
     "name": "stdout",
     "output_type": "stream",
     "text": [
      "succesfully detected app window\n"
     ]
    },
    {
     "data": {
      "text/plain": [
       "True"
      ]
     },
     "execution_count": 54,
     "metadata": {},
     "output_type": "execute_result"
    }
   ],
   "source": [
    "agent.resize([100, 1000])"
   ]
  },
  {
   "cell_type": "code",
   "execution_count": 193,
   "id": "4c28c972",
   "metadata": {},
   "outputs": [
    {
     "name": "stderr",
     "output_type": "stream",
     "text": [
      " 2023-02-22 22:30:49,172 - INFO - Simulation room started...\n",
      " 2023-02-22 22:30:58,828 - INFO - starting simulation run difficulty 5 sector c...\n",
      " 2023-02-22 22:31:13,695 - INFO - single battle started...\n",
      " 2023-02-22 22:31:13,862 - INFO - selected buff {'loc': LocationBox(left=57, top=689, width=160, height=240), 'buff_type': 'normal', 'buff_subtype': 'square'}\n",
      " 2023-02-22 22:31:21,560 - INFO - waiting for battle session to end...\n",
      "\n",
      "KeyboardInterrupt\n",
      "\n"
     ]
    }
   ],
   "source": [
    "agent.simulation_room()"
   ]
  },
  {
   "cell_type": "code",
   "execution_count": 199,
   "id": "f22ab175",
   "metadata": {
    "scrolled": true
   },
   "outputs": [
    {
     "name": "stderr",
     "output_type": "stream",
     "text": [
      " 2023-02-22 22:56:11,771 - INFO - single simulation battle started...\n",
      " 2023-02-22 22:56:11,771 - INFO - started selecting buffs\n",
      " 2023-02-22 22:56:12,866 - INFO - reached buff select window\n",
      " 2023-02-22 22:56:12,867 - INFO - selecting the buff to obtain...\n",
      " 2023-02-22 22:56:32,449 - INFO - buff selection ended\n",
      " 2023-02-22 22:56:32,450 - INFO - single simulation battle ended, moving on...\n"
     ]
    },
    {
     "data": {
      "text/plain": [
       "[]"
      ]
     },
     "execution_count": 199,
     "metadata": {},
     "output_type": "execute_result"
    }
   ],
   "source": [
    "agent.simulation_room_single_battle()"
   ]
  },
  {
   "cell_type": "code",
   "execution_count": null,
   "id": "c1fac3c0",
   "metadata": {},
   "outputs": [],
   "source": []
  },
  {
   "cell_type": "code",
   "execution_count": 196,
   "id": "b968d194",
   "metadata": {},
   "outputs": [
    {
     "data": {
      "text/plain": [
       "True"
      ]
     },
     "execution_count": 196,
     "metadata": {},
     "output_type": "execute_result"
    }
   ],
   "source": [
    "gio.locate_image_and_click(agent.image_map['home_ark_simulation_room_buff_substitute_buff_home'],\n",
    "                                    region=agent.location_map['home'].to_bounding(),\n",
    "                                    loop=True, timeout=5, button=None)"
   ]
  },
  {
   "cell_type": "code",
   "execution_count": null,
   "id": "b9f7c563",
   "metadata": {},
   "outputs": [],
   "source": []
  },
  {
   "cell_type": "code",
   "execution_count": null,
   "id": "ccac8f1a",
   "metadata": {},
   "outputs": [],
   "source": []
  },
  {
   "cell_type": "code",
   "execution_count": 160,
   "id": "7aae1c18",
   "metadata": {},
   "outputs": [
    {
     "name": "stderr",
     "output_type": "stream",
     "text": [
      " 2023-02-22 20:59:39,623 - INFO - starting simulation run difficulty 1 sector a...\n",
      " 2023-02-22 21:00:01,108 - INFO - single battle started...\n",
      " 2023-02-22 21:00:01,214 - INFO - selected buff {'loc': LocationBox(left=137, top=689, width=160, height=240), 'buff_type': 'normal', 'buff_subtype': 'triangle'}\n",
      " 2023-02-22 21:00:06,520 - INFO - battle session ended\n",
      " 2023-02-22 21:00:07,624 - INFO - reached buff select window\n",
      " 2023-02-22 21:00:07,625 - INFO - selecting the buff to obtain...\n",
      " 2023-02-22 21:00:18,578 - INFO - single battle ended\n",
      " 2023-02-22 21:00:32,392 - INFO - single battle started...\n",
      " 2023-02-22 21:00:32,492 - INFO - selected buff {'loc': LocationBox(left=137, top=689, width=160, height=240), 'buff_type': 'choice'}\n",
      " 2023-02-22 21:00:33,594 - INFO - selecting a secondary action for the buff with buff type choice\n",
      " 2023-02-22 21:01:00,988 - INFO - single battle ended\n",
      " 2023-02-22 21:01:14,753 - INFO - single battle started...\n",
      " 2023-02-22 21:01:14,851 - INFO - selected buff {'loc': LocationBox(left=137, top=689, width=160, height=240), 'buff_type': 'normal', 'buff_subtype': 'survival'}\n",
      " 2023-02-22 21:01:20,164 - INFO - battle session ended\n",
      " 2023-02-22 21:01:21,261 - INFO - reached buff select window\n",
      " 2023-02-22 21:01:21,262 - INFO - selecting the buff to obtain...\n",
      " 2023-02-22 21:01:32,204 - INFO - single battle ended\n",
      " 2023-02-22 21:01:45,975 - INFO - single battle started...\n",
      " 2023-02-22 21:01:46,029 - INFO - selected buff {'loc': LocationBox(left=217, top=689, width=160, height=240), 'buff_type': 'heal'}\n",
      " 2023-02-22 21:01:47,132 - INFO - selecting a secondary action for the buff with buff type heal\n",
      " 2023-02-22 21:02:14,500 - INFO - single battle ended\n",
      " 2023-02-22 21:02:28,281 - INFO - single battle started...\n",
      " 2023-02-22 21:02:28,335 - INFO - selected buff {'loc': LocationBox(left=217, top=689, width=160, height=240), 'buff_type': 'boss', 'buff_subtype': 'mixed'}\n",
      " 2023-02-22 21:02:37,157 - INFO - waiting for battle session to end...\n",
      " 2023-02-22 21:03:31,911 - INFO - battle session ended\n",
      " 2023-02-22 21:03:33,018 - INFO - reached buff select window\n",
      " 2023-02-22 21:03:33,019 - INFO - selecting the buff to obtain...\n",
      " 2023-02-22 21:03:43,973 - INFO - single battle ended\n",
      " 2023-02-22 21:03:46,190 - INFO - Finished simulation run difficulty 1 sector a...\n"
     ]
    },
    {
     "data": {
      "text/plain": [
       "'next_sector'"
      ]
     },
     "execution_count": 160,
     "metadata": {},
     "output_type": "execute_result"
    }
   ],
   "source": [
    "agent.simulation_room_single_session()"
   ]
  },
  {
   "cell_type": "code",
   "execution_count": 594,
   "id": "05007912",
   "metadata": {},
   "outputs": [],
   "source": [
    "def sharpen(image):\n",
    "    kernel = np.array([[0, -3, 0],\n",
    "                   [-1, 9,-1],\n",
    "                   [0, -3, 0]])\n",
    "    image_sharp = cv2.filter2D(src=image, ddepth=-1, kernel=kernel)\n",
    "    return image_sharp"
   ]
  },
  {
   "cell_type": "code",
   "execution_count": 443,
   "id": "d90b395f",
   "metadata": {},
   "outputs": [],
   "source": [
    "ras = agent.game_settings.get('rookie_arena', {}).get('var')\n",
    "\n",
    "power_level_locs = gio.locate_image(agent.image_map['home_ark_arena_rookie_enemy_power_level'],\n",
    "                                    region=agent.location_map['home'].to_bounding(), confidence=0.7, multi=True)\n",
    "\n",
    "p_im = []\n",
    "r_im = []\n",
    "for ind, power_level_loc in enumerate(power_level_locs):\n",
    "    p = power_level_loc.stretch(ras['ENEMY_POWER_H_STRETCH'], in_place=True\n",
    "                                ).stretch(ras['ENEMY_POWER_V_STRETCH'], axis=1, direction='up'\n",
    "                                          ).translate(ras['ENEMY_POWER_H_TRANS'], ras['ENEMY_POWER_V_TRANS'])\n",
    "    img1 = gio.get_location_image(p)\n",
    "    p_im.append(img1)\n",
    "\n",
    "    \n",
    "rank_locs = gio.locate_image(agent.image_map['home_ark_arena_rookie_star'],\n",
    "                             region=agent.location_map['home'].to_bounding(), confidence=0.7, multi=True)\n",
    "\n",
    "for ind, rank_loc in enumerate(rank_locs):\n",
    "    r = rank_loc.stretch(ras['ENEMY_RANK_H_STRETCH'], in_place=True\n",
    "                         ).stretch(ras['ENEMY_RANK_V_STRETCH'], axis=1, direction='up'\n",
    "                                   ).translate(ras['ENEMY_RANK_H_TRANS'], ras['ENEMY_RANK_V_TRANS'])\n",
    "    img2 = gio.get_location_image(r)\n",
    "    r_im.append(img2)"
   ]
  },
  {
   "cell_type": "code",
   "execution_count": 444,
   "id": "ba50448c",
   "metadata": {},
   "outputs": [],
   "source": [
    "ras = agent.game_settings.get('rookie_arena', {}).get('var')\n",
    "self_info = {}\n",
    "\n",
    "rank_loc = gio.locate_image(agent.image_map['home_ark_arena_rookie_star_self'],\n",
    "                            region=agent.location_map['home'].to_bounding(), confidence=0.7)\n",
    "if rank_loc:\n",
    "    r = rank_loc.stretch(ras['SELF_RANK_H_STRETCH'], in_place=True\n",
    "                         ).stretch(ras['SELF_RANK_V_STRETCH'], axis=1, direction='up'\n",
    "                                   ).translate(ras['SELF_RANK_H_TRANS'], ras['SELF_RANK_V_TRANS'])\n",
    "    r_img = gio.get_location_image(r)\n",
    "\n",
    "\n",
    "power_level_loc = gio.locate_image(agent.image_map['home_ark_arena_rookie_power_level'],\n",
    "                                   region=agent.location_map['home'].to_bounding(), confidence=0.7, multi=True)\n",
    "\n",
    "if power_level_loc:\n",
    "    power_level_loc = power_level_loc[1] if len(\n",
    "        power_level_loc) > 1 else power_level_loc[0]\n",
    "    p = power_level_loc.stretch(ras['SELF_POWER_H_STRETCH'], in_place=True\n",
    "                                ).stretch(ras['SELF_POWER_V_STRETCH'], axis=1, direction='up'\n",
    "                                          ).translate(ras['SELF_POWER_H_TRANS'], ras['SELF_POWER_V_TRANS'])\n",
    "    p_img = gio.get_location_image(p)"
   ]
  },
  {
   "cell_type": "code",
   "execution_count": null,
   "id": "e36e5804",
   "metadata": {},
   "outputs": [],
   "source": []
  },
  {
   "cell_type": "code",
   "execution_count": 473,
   "id": "256df5d2",
   "metadata": {},
   "outputs": [],
   "source": [
    "def preprocess_image_number(image, threshold=120):\n",
    "    \"\"\"\n",
    "    preprocess a PIL image to make it more visible for text recognition\n",
    "    \"\"\"\n",
    "    image = gio.resize(image, 3)\n",
    "    image = cv2.cvtColor(np.array(image), cv2.COLOR_RGB2BGR)\n",
    "    normalized = cv2.normalize(image, None, 0, 255, cv2.NORM_MINMAX)\n",
    "    if not is_white_background(normalized, threshold=0.2):\n",
    "        normalized = cv2.bitwise_not(normalized)\n",
    "    gray = cv2.cvtColor(normalized, cv2.COLOR_BGR2GRAY)\n",
    "    ret, thresh = cv2.threshold(gray, 80, 255, cv2.THRESH_BINARY)\n",
    "    blured = cv2.GaussianBlur(thresh,(3,3),0)\n",
    "    sharpened = gio.sharpen(blured)\n",
    "    \n",
    "    # erode = cv2.erode(sharpened, np.array((3, 3)), iterations=1)\n",
    "    stretch_image = GameInteractionIO.stretch_white_space(sharpened, 4*3)\n",
    "    return stretch_image"
   ]
  },
  {
   "cell_type": "code",
   "execution_count": 474,
   "id": "1185fab9",
   "metadata": {},
   "outputs": [],
   "source": [
    "def is_white_background(image, threshold=0.3):\n",
    "    \"\"\"remove images with transparent or white background\"\"\"\n",
    "    background = np.array([230, 230, 255])\n",
    "    percent = (image >= background).sum() / image.size\n",
    "    print(percent)\n",
    "    if percent >= threshold:\n",
    "        return True\n",
    "    else:\n",
    "        return False"
   ]
  },
  {
   "cell_type": "code",
   "execution_count": 475,
   "id": "4ba20eeb",
   "metadata": {
    "scrolled": true
   },
   "outputs": [
    {
     "name": "stdout",
     "output_type": "stream",
     "text": [
      "0.43699845679012345\n"
     ]
    },
    {
     "data": {
      "text/plain": [
       "array([[255, 255, 255, ..., 255, 255, 255],\n",
       "       [255, 255, 255, ..., 255, 255, 255],\n",
       "       [255, 255, 255, ..., 255, 255, 255],\n",
       "       ...,\n",
       "       [255, 255, 255, ..., 255, 255, 255],\n",
       "       [255, 255, 255, ..., 255, 255, 255],\n",
       "       [255, 255, 255, ..., 255, 255, 255]], dtype=uint8)"
      ]
     },
     "execution_count": 475,
     "metadata": {},
     "output_type": "execute_result"
    }
   ],
   "source": [
    "image = preprocess_image_number(r_im[0])\n",
    "image"
   ]
  },
  {
   "cell_type": "code",
   "execution_count": 477,
   "id": "a8045181",
   "metadata": {},
   "outputs": [
    {
     "data": {
      "image/png": "[encoded data removed]",
      "text/plain": [
       "<PIL.Image.Image image mode=RGB size=119x74>"
      ]
     },
     "execution_count": 477,
     "metadata": {},
     "output_type": "execute_result"
    }
   ],
   "source": [
    "im = gio.to_pil(image)\n",
    "im"
   ]
  },
  {
   "cell_type": "code",
   "execution_count": 478,
   "id": "9a814ad4",
   "metadata": {},
   "outputs": [
    {
     "data": {
      "text/plain": [
       "'331'"
      ]
     },
     "execution_count": 478,
     "metadata": {},
     "output_type": "execute_result"
    }
   ],
   "source": [
    "pytesseract.image_to_string(im,\n",
    "        config=f'-l digitsall_layer --oem 1 --psm 6 outputbase digits tessedit_char_whitelist=0123456789').strip().replace(\" \", \"\")"
   ]
  },
  {
   "cell_type": "code",
   "execution_count": 479,
   "id": "f928befb",
   "metadata": {
    "scrolled": true
   },
   "outputs": [
    {
     "data": {
      "text/plain": [
       "'3'"
      ]
     },
     "execution_count": 479,
     "metadata": {},
     "output_type": "execute_result"
    }
   ],
   "source": [
    "pytesseract.image_to_string(im,\n",
    "        config=f'-l engrestrict_best_int --oem 1 --psm 6 outputbase digits tessedit_char_whitelist=0123456789').strip().replace(\" \", \"\")"
   ]
  },
  {
   "cell_type": "code",
   "execution_count": 480,
   "id": "985fc680",
   "metadata": {},
   "outputs": [
    {
     "data": {
      "text/plain": [
       "'2331'"
      ]
     },
     "execution_count": 480,
     "metadata": {},
     "output_type": "execute_result"
    }
   ],
   "source": [
    "pytesseract.image_to_string(im,\n",
    "        config=f'-l digits --oem 1 --psm 6 outputbase digits tessedit_char_whitelist=0123456789').strip().replace(\" \", \"\")"
   ]
  },
  {
   "cell_type": "code",
   "execution_count": 481,
   "id": "fb8eb68c",
   "metadata": {},
   "outputs": [
    {
     "data": {
      "text/plain": [
       "'2331'"
      ]
     },
     "execution_count": 481,
     "metadata": {},
     "output_type": "execute_result"
    }
   ],
   "source": [
    "pytesseract.image_to_string(im,\n",
    "        config=f'-l digits1 --oem 1 --psm 6 outputbase digits tessedit_char_whitelist=0123456789').strip().replace(\" \", \"\")"
   ]
  },
  {
   "cell_type": "code",
   "execution_count": 2040,
   "id": "c04f1cdd",
   "metadata": {},
   "outputs": [
    {
     "data": {
      "text/plain": [
       "{0: {'fight_loc': LocationBox(left=494, top=592, width=42, height=24),\n",
       "  'rank': 2331,\n",
       "  'power_level': 11884},\n",
       " 1: {'fight_loc': LocationBox(left=495, top=700, width=42, height=24),\n",
       "  'rank': 1132,\n",
       "  'power_level': 11845},\n",
       " 2: {'fight_loc': LocationBox(left=494, top=809, width=42, height=24),\n",
       "  'rank': 1152,\n",
       "  'power_level': 18251}}"
      ]
     },
     "execution_count": 2040,
     "metadata": {},
     "output_type": "execute_result"
    }
   ],
   "source": [
    "agent.rookie_arena_get_enemy_information()"
   ]
  },
  {
   "cell_type": "code",
   "execution_count": 183,
   "id": "b308c5b9",
   "metadata": {},
   "outputs": [
    {
     "data": {
      "text/plain": [
       "Size(width=591, height=1061)"
      ]
     },
     "execution_count": 183,
     "metadata": {},
     "output_type": "execute_result"
    }
   ],
   "source": [
    "app.size"
   ]
  },
  {
   "cell_type": "code",
   "execution_count": 210,
   "id": "492c99aa",
   "metadata": {},
   "outputs": [
    {
     "data": {
      "text/plain": [
       "[]"
      ]
     },
     "execution_count": 210,
     "metadata": {},
     "output_type": "execute_result"
    }
   ],
   "source": [
    "a = [0, False, None]\n",
    "\n",
    "[print(b) for b in a if b]"
   ]
  },
  {
   "cell_type": "code",
   "execution_count": 215,
   "id": "52d7ff2e",
   "metadata": {},
   "outputs": [
    {
     "ename": "UFuncTypeError",
     "evalue": "ufunc 'add' did not contain a loop with signature matching types (dtype('<U11'), dtype('<U11')) -> None",
     "output_type": "error",
     "traceback": [
      "\u001b[1;31m---------------------------------------------------------------------\u001b[0m",
      "\u001b[1;31mUFuncTypeError\u001b[0m                      Traceback (most recent call last)",
      "Input \u001b[1;32mIn [215]\u001b[0m, in \u001b[0;36m<cell line: 1>\u001b[1;34m()\u001b[0m\n\u001b[1;32m----> 1\u001b[0m \u001b[43mnp\u001b[49m\u001b[38;5;241;43m.\u001b[39;49m\u001b[43mmean\u001b[49m\u001b[43m(\u001b[49m\u001b[43m[\u001b[49m\u001b[38;5;241;43m0\u001b[39;49m\u001b[43m,\u001b[49m\u001b[43m \u001b[49m\u001b[38;5;124;43m\"\u001b[39;49m\u001b[38;5;124;43m0\u001b[39;49m\u001b[38;5;124;43m\"\u001b[39;49m\u001b[43m]\u001b[49m\u001b[43m)\u001b[49m\n",
      "File \u001b[1;32m<__array_function__ internals>:200\u001b[0m, in \u001b[0;36mmean\u001b[1;34m(*args, **kwargs)\u001b[0m\n",
      "File \u001b[1;32mD:\\Development\\venv\\lib\\site-packages\\numpy\\core\\fromnumeric.py:3464\u001b[0m, in \u001b[0;36mmean\u001b[1;34m(a, axis, dtype, out, keepdims, where)\u001b[0m\n\u001b[0;32m   3461\u001b[0m     \u001b[38;5;28;01melse\u001b[39;00m:\n\u001b[0;32m   3462\u001b[0m         \u001b[38;5;28;01mreturn\u001b[39;00m mean(axis\u001b[38;5;241m=\u001b[39maxis, dtype\u001b[38;5;241m=\u001b[39mdtype, out\u001b[38;5;241m=\u001b[39mout, \u001b[38;5;241m*\u001b[39m\u001b[38;5;241m*\u001b[39mkwargs)\n\u001b[1;32m-> 3464\u001b[0m \u001b[38;5;28;01mreturn\u001b[39;00m _methods\u001b[38;5;241m.\u001b[39m_mean(a, axis\u001b[38;5;241m=\u001b[39maxis, dtype\u001b[38;5;241m=\u001b[39mdtype,\n\u001b[0;32m   3465\u001b[0m                       out\u001b[38;5;241m=\u001b[39mout, \u001b[38;5;241m*\u001b[39m\u001b[38;5;241m*\u001b[39mkwargs)\n",
      "File \u001b[1;32mD:\\Development\\venv\\lib\\site-packages\\numpy\\core\\_methods.py:181\u001b[0m, in \u001b[0;36m_mean\u001b[1;34m(a, axis, dtype, out, keepdims, where)\u001b[0m\n\u001b[0;32m    178\u001b[0m         dtype \u001b[38;5;241m=\u001b[39m mu\u001b[38;5;241m.\u001b[39mdtype(\u001b[38;5;124m'\u001b[39m\u001b[38;5;124mf4\u001b[39m\u001b[38;5;124m'\u001b[39m)\n\u001b[0;32m    179\u001b[0m         is_float16_result \u001b[38;5;241m=\u001b[39m \u001b[38;5;28;01mTrue\u001b[39;00m\n\u001b[1;32m--> 181\u001b[0m ret \u001b[38;5;241m=\u001b[39m \u001b[43mumr_sum\u001b[49m\u001b[43m(\u001b[49m\u001b[43marr\u001b[49m\u001b[43m,\u001b[49m\u001b[43m \u001b[49m\u001b[43maxis\u001b[49m\u001b[43m,\u001b[49m\u001b[43m \u001b[49m\u001b[43mdtype\u001b[49m\u001b[43m,\u001b[49m\u001b[43m \u001b[49m\u001b[43mout\u001b[49m\u001b[43m,\u001b[49m\u001b[43m \u001b[49m\u001b[43mkeepdims\u001b[49m\u001b[43m,\u001b[49m\u001b[43m \u001b[49m\u001b[43mwhere\u001b[49m\u001b[38;5;241;43m=\u001b[39;49m\u001b[43mwhere\u001b[49m\u001b[43m)\u001b[49m\n\u001b[0;32m    182\u001b[0m \u001b[38;5;28;01mif\u001b[39;00m \u001b[38;5;28misinstance\u001b[39m(ret, mu\u001b[38;5;241m.\u001b[39mndarray):\n\u001b[0;32m    183\u001b[0m     \u001b[38;5;28;01mwith\u001b[39;00m _no_nep50_warning():\n",
      "\u001b[1;31mUFuncTypeError\u001b[0m: ufunc 'add' did not contain a loop with signature matching types (dtype('<U11'), dtype('<U11')) -> None"
     ]
    }
   ],
   "source": [
    "np.mean([0, \"0\"])"
   ]
  },
  {
   "cell_type": "code",
   "execution_count": 37,
   "id": "135dde48",
   "metadata": {},
   "outputs": [
    {
     "data": {
      "text/plain": [
       "[LocationBox(left=118, top=612, width=53, height=15),\n",
       " LocationBox(left=241, top=612, width=53, height=15),\n",
       " LocationBox(left=367, top=612, width=53, height=15)]"
      ]
     },
     "execution_count": 37,
     "metadata": {},
     "output_type": "execute_result"
    }
   ],
   "source": [
    "gio.locate_image(agent.image_map['home_shop_sale_100'],\n",
    "                                              region=agent.location_map['home'].to_bounding(\n",
    "            ),\n",
    "                    confidence=0.75, multi=True)"
   ]
  },
  {
   "cell_type": "code",
   "execution_count": 56,
   "id": "ca2a6658",
   "metadata": {},
   "outputs": [
    {
     "data": {
      "image/png": "[encoded data removed]",
      "text/plain": [
       "<PIL.PngImagePlugin.PngImageFile image mode=RGBA size=65x18>"
      ]
     },
     "execution_count": 56,
     "metadata": {},
     "output_type": "execute_result"
    }
   ],
   "source": [
    "agent.image_map['home_shop_sale_100']"
   ]
  },
  {
   "cell_type": "code",
   "execution_count": 57,
   "id": "981f4479",
   "metadata": {
    "scrolled": true
   },
   "outputs": [
    {
     "data": {
      "text/plain": [
       "[575, 1022]"
      ]
     },
     "execution_count": 57,
     "metadata": {},
     "output_type": "execute_result"
    }
   ],
   "source": [
    "agent.resolution"
   ]
  },
  {
   "cell_type": "code",
   "execution_count": 144,
   "id": "8822f32d",
   "metadata": {},
   "outputs": [],
   "source": [
    "im = gio.get_location_image(agent.location_map['home'])"
   ]
  },
  {
   "cell_type": "code",
   "execution_count": 131,
   "id": "a4cea9d4",
   "metadata": {},
   "outputs": [],
   "source": [
    "t1 = gio.read_text(gio.get_location_image(agent.location_map['home']))"
   ]
  },
  {
   "cell_type": "code",
   "execution_count": 73,
   "id": "51cabbce",
   "metadata": {},
   "outputs": [],
   "source": [
    "loc = LocationBox(points=t1[0][0])"
   ]
  },
  {
   "cell_type": "code",
   "execution_count": 138,
   "id": "c7b4adfd",
   "metadata": {},
   "outputs": [],
   "source": [
    "def get_text(loc):\n",
    "    im = gio.get_location_image(loc)\n",
    "\n",
    "    text = pytesseract.image_to_string(im,\n",
    "                        config='--psm 6 -l chi_sim --oem 1').strip().replace(\" \", \"\")\n",
    "    return text"
   ]
  },
  {
   "cell_type": "code",
   "execution_count": 84,
   "id": "2897c7dc",
   "metadata": {},
   "outputs": [
    {
     "data": {
      "text/plain": [
       "'100XSALE'"
      ]
     },
     "execution_count": 84,
     "metadata": {},
     "output_type": "execute_result"
    }
   ],
   "source": []
  },
  {
   "cell_type": "code",
   "execution_count": null,
   "id": "1fcbf2da",
   "metadata": {},
   "outputs": [],
   "source": []
  },
  {
   "cell_type": "code",
   "execution_count": null,
   "id": "12ec4f1d",
   "metadata": {},
   "outputs": [],
   "source": []
  },
  {
   "cell_type": "code",
   "execution_count": 205,
   "id": "43214eaa",
   "metadata": {},
   "outputs": [
    {
     "name": "stderr",
     "output_type": "stream",
     "text": [
      " 2023-02-18 22:29:31,609 - INFO - starting simulation run difficulty 5 sector c...\n",
      " 2023-02-18 22:29:39,324 - INFO - Finished simulation run difficulty 5 sector c...\n"
     ]
    },
    {
     "data": {
      "text/plain": [
       "True"
      ]
     },
     "execution_count": 205,
     "metadata": {},
     "output_type": "execute_result"
    }
   ],
   "source": [
    "agent.simulation_room_single_run()"
   ]
  },
  {
   "cell_type": "code",
   "execution_count": 144,
   "id": "63d5c698",
   "metadata": {},
   "outputs": [
    {
     "data": {
      "text/plain": [
       "True"
      ]
     },
     "execution_count": 144,
     "metadata": {},
     "output_type": "execute_result"
    }
   ],
   "source": [
    "gio.switch_active_application(app_name=agent.settings['active_window'], app_loc=agent.location_map['home'])"
   ]
  },
  {
   "cell_type": "code",
   "execution_count": 127,
   "id": "317bdc50",
   "metadata": {
    "scrolled": true
   },
   "outputs": [
    {
     "data": {
      "text/plain": [
       "[575, 1022]"
      ]
     },
     "execution_count": 127,
     "metadata": {},
     "output_type": "execute_result"
    }
   ],
   "source": [
    "agent.resolution"
   ]
  },
  {
   "cell_type": "code",
   "execution_count": 162,
   "id": "b432d08f",
   "metadata": {
    "scrolled": true
   },
   "outputs": [
    {
     "name": "stderr",
     "output_type": "stream",
     "text": [
      " 2023-02-18 20:13:20,304 - INFO - Claiming rehab reward session started...\n",
      " 2023-02-18 20:13:24,710 - INFO - Could not find rehab entrance, exiting home to restart\n",
      " 2023-02-18 20:13:24,711 - INFO - Exiting to home...\n",
      " 2023-02-18 20:13:47,350 - INFO - Started single round of rehab reward claiming...\n",
      " 2023-02-18 20:13:56,417 - INFO - there are 3 rewards that needs manual intervention to claim\n",
      " 2023-02-18 20:13:56,417 - INFO - Successfully claimed 0 rehab rewards\n",
      " 2023-02-18 20:13:56,418 - INFO - Rehab reward claiming ended.\n",
      " 2023-02-18 20:13:56,418 - INFO - Exiting to home...\n"
     ]
    }
   ],
   "source": [
    "agent.claim_nikke_rehab_reward()"
   ]
  },
  {
   "cell_type": "code",
   "execution_count": null,
   "id": "8d93659a",
   "metadata": {},
   "outputs": [],
   "source": [
    "def claim_nikke_rehab(self):\n",
    "    "
   ]
  },
  {
   "cell_type": "code",
   "execution_count": 115,
   "id": "d0ab8288",
   "metadata": {},
   "outputs": [],
   "source": [
    "loc = gio.locate_image(agent.image_map['home_outpost_elevator_complete_ssr'], region=agent.location_map['home'].to_bounding(),multi=True)"
   ]
  },
  {
   "cell_type": "code",
   "execution_count": 60,
   "id": "a9dd969b",
   "metadata": {},
   "outputs": [],
   "source": [
    "loc = gio.locate_image(agent.image_map[''], region=agent.location_map['home'].to_bounding())"
   ]
  },
  {
   "cell_type": "code",
   "execution_count": 226,
   "id": "6f3e8822",
   "metadata": {},
   "outputs": [],
   "source": [
    "loc = gio.locate_image(agent.image_map['home_ark_simulation_room_example_buff_obtain'], region=agent.location_map['home'].to_bounding())"
   ]
  },
  {
   "cell_type": "code",
   "execution_count": 292,
   "id": "f601e46a",
   "metadata": {
    "scrolled": false
   },
   "outputs": [
    {
     "data": {
      "image/png": "[encoded data removed]",
      "text/plain": [
       "<PIL.Image.Image image mode=RGB size=456x146>"
      ]
     },
     "execution_count": 292,
     "metadata": {},
     "output_type": "execute_result"
    }
   ],
   "source": [
    "im = gio.get_location_image(LocationBox(left=106, top=760, width=6, height=146).stretch(450))\n",
    "im"
   ]
  },
  {
   "cell_type": "code",
   "execution_count": 344,
   "id": "b43a78e3",
   "metadata": {},
   "outputs": [],
   "source": [
    "buff_rarity_im = agent.image_map['home_ark_simulation_room_buff_rarity_epic']"
   ]
  },
  {
   "cell_type": "code",
   "execution_count": 252,
   "id": "b1d33bf6",
   "metadata": {},
   "outputs": [],
   "source": [
    "big_img = gio.to_cv2(im)\n",
    "\n",
    "# define green value range\n",
    "big_img_hsv = cv2.cvtColor(big_img, cv2.COLOR_BGR2HSV)\n",
    "mask = cv2.inRange(big_img_hsv, rarity_color, np.array([0,255, 255], dtype=np.uint8))\n",
    "\n",
    "# find the contours in the mask\n",
    "contours, hierarchy = cv2.findContours(mask.copy(), cv2.RETR_EXTERNAL, cv2.CHAIN_APPROX_SIMPLE)\n",
    "\n",
    "# find the contour with max area\n",
    "cnt = sorted(contours, key=cv2.contourArea, reverse=True)\n",
    "# cv2.drawContours(big_img, [cnt], 0, (0,0,255), 3)\n",
    "\n",
    "# # Find the bounding box in that region\n",
    "# x,y,w,h = cv2.boundingRect(cnt)\n",
    "# buff_side_loc = LocationBox(x,y,w,h)"
   ]
  },
  {
   "cell_type": "code",
   "execution_count": 251,
   "id": "b1d7cf37",
   "metadata": {},
   "outputs": [
    {
     "data": {
      "text/plain": [
       "()"
      ]
     },
     "execution_count": 251,
     "metadata": {},
     "output_type": "execute_result"
    }
   ],
   "source": [
    "contours"
   ]
  },
  {
   "cell_type": "code",
   "execution_count": 250,
   "id": "ebed089f",
   "metadata": {},
   "outputs": [
    {
     "data": {
      "text/plain": [
       "array([244, 110, 250], dtype=uint8)"
      ]
     },
     "execution_count": 250,
     "metadata": {},
     "output_type": "execute_result"
    }
   ],
   "source": [
    "rarity_color"
   ]
  },
  {
   "cell_type": "code",
   "execution_count": 277,
   "id": "6e59e25d",
   "metadata": {},
   "outputs": [],
   "source": [
    "buff_rarity_im = agent.image_map['home_ark_simulation_room_buff_rarity_sr']"
   ]
  },
  {
   "cell_type": "code",
   "execution_count": 239,
   "id": "4b737816",
   "metadata": {
    "scrolled": true
   },
   "outputs": [],
   "source": [
    "rarity_color = get_image_dominant_color(gio.to_cv2(buff_rarity_im))"
   ]
  },
  {
   "cell_type": "code",
   "execution_count": 261,
   "id": "f24f443a",
   "metadata": {},
   "outputs": [],
   "source": [
    "loc1 = gio.locate_image(agent.image_map['home_ark_simulation_room_buff_rarity_sr'],\n",
    "                        region=agent.location_map['home'].to_bounding(),multi=True)"
   ]
  },
  {
   "cell_type": "code",
   "execution_count": 294,
   "id": "deabc4cf",
   "metadata": {},
   "outputs": [
    {
     "data": {
      "text/plain": [
       "[LocationBox(left=106, top=760, width=446, height=146),\n",
       " LocationBox(left=105, top=443, width=446, height=129),\n",
       " LocationBox(left=106, top=593, width=445, height=147)]"
      ]
     },
     "execution_count": 294,
     "metadata": {},
     "output_type": "execute_result"
    }
   ],
   "source": [
    "get_buff_location()"
   ]
  },
  {
   "cell_type": "code",
   "execution_count": 237,
   "id": "0ad81bf6",
   "metadata": {},
   "outputs": [],
   "source": [
    "def get_image_dominant_color(a):\n",
    "    colors, count = np.unique(a.reshape(-1,a.shape[-1]), axis=0, return_counts=True)\n",
    "    return colors[count.argmax()]"
   ]
  },
  {
   "cell_type": "code",
   "execution_count": 293,
   "id": "4998aa0e",
   "metadata": {},
   "outputs": [],
   "source": [
    "\n",
    "    "
   ]
  },
  {
   "cell_type": "code",
   "execution_count": 223,
   "id": "f3a1dea2",
   "metadata": {},
   "outputs": [],
   "source": [
    "loc1 = gio.locate_image(agent.image_map['home_ark_simulation_room_buff_buff_select_icon'], region=agent.location_map['home'].to_bounding())"
   ]
  },
  {
   "cell_type": "code",
   "execution_count": 323,
   "id": "56c6e00b",
   "metadata": {},
   "outputs": [
    {
     "name": "stdout",
     "output_type": "stream",
     "text": [
      "normal\n",
      "[LocationBox(left=219, top=697, width=57, height=50), LocationBox(left=381, top=697, width=57, height=50)]\n",
      "selected buff {'loc': LocationBox(left=169, top=668, width=160, height=240), 'buff_type': 'normal', 'buff_subtype': 'normal'}\n"
     ]
    },
    {
     "data": {
      "text/plain": [
       "[{}, {}]"
      ]
     },
     "execution_count": 323,
     "metadata": {},
     "output_type": "execute_result"
    }
   ],
   "source": [
    "simulation_room_single_battle()"
   ]
  },
  {
   "cell_type": "code",
   "execution_count": 332,
   "id": "1403f058",
   "metadata": {},
   "outputs": [
    {
     "data": {
      "text/plain": [
       "LocationBox(left=27, top=66, width=575, height=1022)"
      ]
     },
     "execution_count": 332,
     "metadata": {},
     "output_type": "execute_result"
    }
   ],
   "source": [
    "agent.location_map['home']"
   ]
  },
  {
   "cell_type": "code",
   "execution_count": 333,
   "id": "a0246188",
   "metadata": {},
   "outputs": [
    {
     "name": "stdout",
     "output_type": "stream",
     "text": [
      "normal\n",
      "[LocationBox(left=204, top=663, width=57, height=50), LocationBox(left=366, top=663, width=57, height=50)]\n"
     ]
    }
   ],
   "source": [
    "simulation_room_single_battle()"
   ]
  },
  {
   "cell_type": "code",
   "execution_count": 230,
   "id": "0f8a4cac",
   "metadata": {},
   "outputs": [
    {
     "data": {
      "text/plain": [
       "LocationBox(left=74, top=634, width=480, height=240)"
      ]
     },
     "execution_count": 230,
     "metadata": {},
     "output_type": "execute_result"
    }
   ],
   "source": [
    "three_buff_loc = loc1.translate(-118, 181).resize(480, 240)\n",
    "three_buff_loc"
   ]
  },
  {
   "cell_type": "code",
   "execution_count": 234,
   "id": "15cbc7fa",
   "metadata": {},
   "outputs": [],
   "source": [
    "buff_1_loc = three_buff_loc.translate(0, 0).resize(160, 240)\n",
    "buff_2_loc = three_buff_loc.translate(160, 0).resize(160, 240)\n",
    "buff_3_loc = three_buff_loc.translate(320, 0).resize(160, 240)"
   ]
  },
  {
   "cell_type": "code",
   "execution_count": 242,
   "id": "f38515a1",
   "metadata": {},
   "outputs": [],
   "source": [
    "buff_1_loc = three_buff_loc.translate(80, 0).resize(160, 240)\n",
    "buff_2_loc = three_buff_loc.translate(240, 0).resize(160, 240)"
   ]
  },
  {
   "cell_type": "code",
   "execution_count": null,
   "id": "ab688eec",
   "metadata": {},
   "outputs": [],
   "source": [
    "buff_1_loc = three_buff_loc.translate(160, 0).resize(160, 240)"
   ]
  },
  {
   "cell_type": "code",
   "execution_count": 313,
   "id": "aa461204",
   "metadata": {},
   "outputs": [
    {
     "name": "stdout",
     "output_type": "stream",
     "text": [
      "normal\n",
      "[LocationBox(left=204, top=663, width=57, height=50), LocationBox(left=366, top=663, width=57, height=50)]\n"
     ]
    },
    {
     "data": {
      "text/plain": [
       "2"
      ]
     },
     "execution_count": 313,
     "metadata": {},
     "output_type": "execute_result"
    }
   ],
   "source": [
    "simulation_room_get_buff_count(three_buff_loc)"
   ]
  },
  {
   "cell_type": "code",
   "execution_count": 308,
   "id": "4fddc9be",
   "metadata": {},
   "outputs": [],
   "source": [
    "locs = non_maximum_suppresion(buff_locs)"
   ]
  },
  {
   "cell_type": "code",
   "execution_count": 309,
   "id": "5ba87d7c",
   "metadata": {},
   "outputs": [
    {
     "data": {
      "text/plain": [
       "[LocationBox(left=204, top=663, width=57, height=50),\n",
       " LocationBox(left=366, top=663, width=57, height=50)]"
      ]
     },
     "execution_count": 309,
     "metadata": {},
     "output_type": "execute_result"
    }
   ],
   "source": [
    "locs"
   ]
  },
  {
   "cell_type": "code",
   "execution_count": 285,
   "id": "fe6a9ed2",
   "metadata": {},
   "outputs": [],
   "source": [
    "buff_locs = gio.locate_image(agent.image_map[f'home_ark_simulation_room_buff_type_normal'],\n",
    "                                     region=loc.to_bounding(), multi=True, multi_threshold=0.5)"
   ]
  },
  {
   "cell_type": "code",
   "execution_count": 286,
   "id": "0406e718",
   "metadata": {},
   "outputs": [
    {
     "data": {
      "text/plain": [
       "[LocationBox(left=204, top=661, width=57, height=50),\n",
       " LocationBox(left=366, top=661, width=57, height=50),\n",
       " LocationBox(left=203, top=662, width=57, height=50),\n",
       " LocationBox(left=365, top=662, width=57, height=50),\n",
       " LocationBox(left=204, top=663, width=57, height=50),\n",
       " LocationBox(left=366, top=663, width=57, height=50)]"
      ]
     },
     "execution_count": 286,
     "metadata": {},
     "output_type": "execute_result"
    }
   ],
   "source": [
    "buff_locs"
   ]
  },
  {
   "cell_type": "code",
   "execution_count": 257,
   "id": "ab0c8cfa",
   "metadata": {},
   "outputs": [
    {
     "data": {
      "image/png": "[encoded data removed]",
      "text/plain": [
       "<PIL.Image.Image image mode=RGB size=480x240>"
      ]
     },
     "execution_count": 257,
     "metadata": {},
     "output_type": "execute_result"
    }
   ],
   "source": [
    "im = gio.get_location_image(three_buff_loc)\n",
    "im"
   ]
  },
  {
   "cell_type": "code",
   "execution_count": 208,
   "id": "1c93aaed",
   "metadata": {},
   "outputs": [
    {
     "data": {
      "text/plain": [
       "[[[[19, 27], [67, 27], [67, 47], [19, 47]], '模拟室'],\n",
       " [[[196, 24], [254, 24], [254, 48], [196, 48]], '6% +'],\n",
       " [[[358, 24], [404, 24], [404, 48], [358, 48]], '4BRK'],\n",
       " [[[69, 89], [137, 89], [137, 109], [69, 109]], '湎关奖励'],\n",
       " [[[469, 89], [535, 89], [535, 109], [469, 109]], '〈川结吏'],\n",
       " [[[200, 389], [274, 389], [274, 422], [200, 422]], '31UUL uTII ROOM'],\n",
       " [[[364, 394], [414, 394], [414, 420], [364, 420]], '5-C'],\n",
       " [[[219, 445], [323, 445], [323, 477], [219, 477]], 'RE 5 ET TIHE 162112'],\n",
       " [[[57, 587], [81, 587], [81, 601], [57, 601]], '州'],\n",
       " [[[131, 661], [163, 661], [163, 677], [131, 677]], '1g'],\n",
       " [[[293, 661], [325, 661], [325, 677], [293, 677]], 'B0g'],\n",
       " [[[457, 661], [487, 661], [487, 677], [457, 677]], 'U0g'],\n",
       " [[[105, 711], [169, 711], [169, 731], [105, 731]], ',丛 囚'],\n",
       " [[[69, 763], [181, 763], [181, 781], [69, 781]], '获得[人]型增益效果'],\n",
       " [[[231, 763], [343, 763], [343, 781], [231, 781]], '获得[0]型增苓效果'],\n",
       " [[[391, 762], [505, 762], [505, 780], [391, 780]], '获得操作型增益效累'],\n",
       " [[[45, 841], [127, 841], [127, 857], [45, 857]], 'BUrr LV。'],\n",
       " [[[463, 843], [489, 843], [489, 857], [463, 857]], '1/8'],\n",
       " [[[65, 955], [99, 955], [99, 975], [65, 975]], '返回'],\n",
       " [[[385, 955], [417, 955], [417, 973], [385, 973]], '7651'],\n",
       " [[[463, 953], [499, 953], [499, 973], [463, 973]], '编队']]"
      ]
     },
     "execution_count": 208,
     "metadata": {},
     "output_type": "execute_result"
    }
   ],
   "source": [
    "result = gio.read_text(im)\n",
    "result"
   ]
  },
  {
   "cell_type": "code",
   "execution_count": 46,
   "id": "2961b156",
   "metadata": {},
   "outputs": [
    {
     "name": "stderr",
     "output_type": "stream",
     "text": [
      " 2023-02-17 16:29:09,729 - INFO - started a round of advising nikkes\n",
      " 2023-02-17 16:29:12,175 - INFO - started advising 德雷克\n"
     ]
    },
    {
     "name": "stdout",
     "output_type": "stream",
     "text": [
      "LocationBox(left=65, top=505, width=14, height=37)\n",
      "LocationBox(left=65, top=505, width=264.0, height=37)\n"
     ]
    },
    {
     "name": "stderr",
     "output_type": "stream",
     "text": [
      " 2023-02-17 16:29:56,043 - INFO - No more sessions available today\n",
      " 2023-02-17 16:30:00,752 - INFO - ended a round of advising nikkes\n"
     ]
    },
    {
     "data": {
      "text/plain": [
       "(True,\n",
       " {'长发公主': {'location': LocationBox(left=66, top=520, width=264.0, height=37),\n",
       "   'advised': False},\n",
       "  '德雷克': {'location': LocationBox(left=65, top=505, width=264.0, height=37),\n",
       "   'advised': True}},\n",
       " ['德雷克'])"
      ]
     },
     "execution_count": 46,
     "metadata": {},
     "output_type": "execute_result"
    }
   ],
   "source": [
    "agent.advise_nikke_single_round()"
   ]
  },
  {
   "cell_type": "code",
   "execution_count": 119,
   "id": "1e6d6da8",
   "metadata": {},
   "outputs": [],
   "source": [
    "power_level_loc = gio.locate_image(agent.image_map['home_ark_arena_rookie_power_level'],\n",
    "                region=agent.location_map['home'].to_bounding(), confidence=0.7, multi=True)"
   ]
  },
  {
   "cell_type": "code",
   "execution_count": 120,
   "id": "470040e7",
   "metadata": {},
   "outputs": [
    {
     "data": {
      "text/plain": [
       "[LocationBox(left=226, top=303, width=22, height=24),\n",
       " LocationBox(left=436, top=346, width=22, height=24)]"
      ]
     },
     "execution_count": 120,
     "metadata": {},
     "output_type": "execute_result"
    }
   ],
   "source": [
    "power_level_loc[1]"
   ]
  },
  {
   "cell_type": "code",
   "execution_count": 400,
   "id": "5d673a86",
   "metadata": {},
   "outputs": [],
   "source": [
    "loc = gio.locate_image(agent.image_map['confirm'],\n",
    "                        region=agent.location_map['home'].to_bounding(), confidence=0.8)"
   ]
  },
  {
   "cell_type": "code",
   "execution_count": 412,
   "id": "34331da5",
   "metadata": {},
   "outputs": [],
   "source": [
    "loc = gio.locate_image_and_click(agent.image_map['confirm'],\n",
    "                                                    region=agent.location_map['home'].to_bounding(), loop=True)"
   ]
  },
  {
   "cell_type": "code",
   "execution_count": 419,
   "id": "25815ca5",
   "metadata": {},
   "outputs": [],
   "source": [
    "loc = gio.locate_image_and_click(agent.image_map['home_advise_advise'], region=agent.location_map['home'].to_bounding(),\n",
    "                                        loop=True, confidence=0.9, timeout=2)"
   ]
  },
  {
   "cell_type": "code",
   "execution_count": 62,
   "id": "b18437e6",
   "metadata": {},
   "outputs": [],
   "source": [
    "gio.locate_image(agent.image_map['home_ark_arena_rookie_power_level'],\n",
    "                        region=agent.location_map['home'].to_bounding(), confidence=0.7)"
   ]
  },
  {
   "cell_type": "code",
   "execution_count": 401,
   "id": "63a2fbb2",
   "metadata": {},
   "outputs": [
    {
     "data": {
      "image/png": "[encoded data removed]",
      "text/plain": [
       "<PIL.Image.Image image mode=RGB size=43x36>"
      ]
     },
     "execution_count": 401,
     "metadata": {},
     "output_type": "execute_result"
    }
   ],
   "source": [
    "im = gio.get_location_image(loc)\n",
    "im"
   ]
  },
  {
   "cell_type": "code",
   "execution_count": 339,
   "id": "271f2509",
   "metadata": {},
   "outputs": [
    {
     "data": {
      "text/plain": [
       "'542'"
      ]
     },
     "execution_count": 339,
     "metadata": {},
     "output_type": "execute_result"
    }
   ],
   "source": [
    "pytesseract.image_to_string(im,\n",
    "                        config='--psm 11 outputbase digits tessedit_char_whitelist=0123456789').strip().replace(\" \", \"\")"
   ]
  },
  {
   "cell_type": "code",
   "execution_count": 141,
   "id": "8e6633b4",
   "metadata": {},
   "outputs": [
    {
     "data": {
      "text/plain": [
       "[[[[2, 2], [38, 2], [38, 28], [2, 28]], '1踯']]"
      ]
     },
     "execution_count": 141,
     "metadata": {},
     "output_type": "execute_result"
    }
   ],
   "source": [
    "gio.read_text(im)"
   ]
  },
  {
   "cell_type": "code",
   "execution_count": 71,
   "id": "4321438d",
   "metadata": {},
   "outputs": [
    {
     "data": {
      "text/plain": [
       "[LocationBox(left=595, top=722, width=53, height=30),\n",
       " LocationBox(left=594, top=860, width=53, height=30),\n",
       " LocationBox(left=594, top=998, width=53, height=30)]"
      ]
     },
     "execution_count": 71,
     "metadata": {},
     "output_type": "execute_result"
    }
   ],
   "source": [
    "gio.locate_image(agent.image_map['home_ark_arena_rookie_free'], region=agent.location_map['home'].to_bounding(), multi=True)"
   ]
  },
  {
   "cell_type": "code",
   "execution_count": 207,
   "id": "2f07f4fb",
   "metadata": {},
   "outputs": [
    {
     "data": {
      "text/plain": [
       "99542"
      ]
     },
     "execution_count": 207,
     "metadata": {},
     "output_type": "execute_result"
    }
   ],
   "source": [
    "max([954, 99542, 954])"
   ]
  },
  {
   "cell_type": "code",
   "execution_count": 353,
   "id": "1d642d7b",
   "metadata": {},
   "outputs": [
    {
     "name": "stdout",
     "output_type": "stream",
     "text": [
      "[1936, 1336, 936, 1936, 1336]\n",
      "LocationBox(left=471, top=481, width=41, height=30)\n",
      "[99542, 99542, 99542, 99542, 99542, 99542, 5542]\n"
     ]
    },
    {
     "data": {
      "text/plain": [
       "{'rank': 1936, 'power_level': 99542}"
      ]
     },
     "execution_count": 353,
     "metadata": {},
     "output_type": "execute_result"
    }
   ],
   "source": [
    "a = agent.rookie_arena_get_self_information()\n",
    "a"
   ]
  },
  {
   "cell_type": "code",
   "execution_count": 354,
   "id": "56ff0913",
   "metadata": {},
   "outputs": [
    {
     "name": "stdout",
     "output_type": "stream",
     "text": [
      "[28, 28, 28, 28]\n",
      "[101, 101, 1501, 1501, 101, 4, 1501]\n",
      "[1709, 1709, 1709]\n",
      "[118451, 118451, 18451, 8, 118451, 118451, 118451, 18451]\n",
      "[74279, 74279, 14279, 14279, 74279, 74279, 74279, 14279]\n",
      "[73436, 73436, 736, 5, 73436, 73436, 73436, 736]\n"
     ]
    },
    {
     "data": {
      "text/plain": [
       "{0: {'rank': 28,\n",
       "  'power_level': 118451,\n",
       "  'fight_loc': LocationBox(left=484, top=727, width=43, height=25)},\n",
       " 1: {'rank': 1501,\n",
       "  'power_level': 74279,\n",
       "  'fight_loc': LocationBox(left=484, top=838, width=43, height=25)},\n",
       " 2: {'rank': 1709,\n",
       "  'power_level': 73436,\n",
       "  'fight_loc': LocationBox(left=485, top=949, width=43, height=25)}}"
      ]
     },
     "execution_count": 354,
     "metadata": {},
     "output_type": "execute_result"
    }
   ],
   "source": [
    "b = agent.rookie_arena_get_enemy_information()\n",
    "b"
   ]
  },
  {
   "cell_type": "code",
   "execution_count": 356,
   "id": "38888039",
   "metadata": {},
   "outputs": [
    {
     "name": "stderr",
     "output_type": "stream",
     "text": [
      " 2023-02-16 21:12:35,276 - INFO - Opponent information valid\n",
      " 2023-02-16 21:12:35,277 - INFO - Opponent select with power level 73436 and rank 1709\n"
     ]
    },
    {
     "data": {
      "text/plain": [
       "{'rank': 1709,\n",
       " 'power_level': 73436,\n",
       " 'fight_loc': LocationBox(left=485, top=949, width=43, height=25)}"
      ]
     },
     "execution_count": 356,
     "metadata": {},
     "output_type": "execute_result"
    }
   ],
   "source": [
    "agent.select_opponent(a,b)"
   ]
  },
  {
   "cell_type": "code",
   "execution_count": 21,
   "id": "1408cdbe",
   "metadata": {},
   "outputs": [
    {
     "data": {
      "text/plain": [
       "LocationBox(left=344, top=193, width=40, height=40)"
      ]
     },
     "execution_count": 21,
     "metadata": {},
     "output_type": "execute_result"
    }
   ],
   "source": [
    "gio.locate_image(agent.image_map['home_advise_home'], region=agent.location_map['home'].to_bounding())"
   ]
  },
  {
   "cell_type": "code",
   "execution_count": 22,
   "id": "b5734ca9",
   "metadata": {},
   "outputs": [
    {
     "data": {
      "text/plain": [
       "True"
      ]
     },
     "execution_count": 22,
     "metadata": {},
     "output_type": "execute_result"
    }
   ],
   "source": [
    "gio.locate_image_and_click(agent.image_map['home_advise_home'],\n",
    "                                                  region=agent.location_map['home'].to_bounding(), loop=True, timeout=3)"
   ]
  },
  {
   "cell_type": "code",
   "execution_count": 15,
   "id": "165a86cb",
   "metadata": {},
   "outputs": [
    {
     "name": "stderr",
     "output_type": "stream",
     "text": [
      " 2023-02-16 16:18:09,162 - INFO - advising nikkes start\n",
      " 2023-02-16 16:18:15,900 - WARNING - advising nikkes failed because the advise icon is not found\n"
     ]
    },
    {
     "data": {
      "text/plain": [
       "False"
      ]
     },
     "execution_count": 15,
     "metadata": {},
     "output_type": "execute_result"
    }
   ],
   "source": [
    "agent.advise_nikke()"
   ]
  },
  {
   "cell_type": "code",
   "execution_count": 18,
   "id": "e09eef6f",
   "metadata": {},
   "outputs": [
    {
     "name": "stderr",
     "output_type": "stream",
     "text": [
      " 2023-02-18 17:24:51,901 - INFO - rookie arena run start\n",
      " 2023-02-18 17:25:04,597 - INFO - Retrieving rookie arena information\n"
     ]
    },
    {
     "name": "stdout",
     "output_type": "stream",
     "text": [
      "LocationBox(left=591, top=421, width=51, height=37)\n"
     ]
    },
    {
     "name": "stderr",
     "output_type": "stream",
     "text": [
      " 2023-02-18 17:25:06,861 - INFO - Seems like no more free battles. Retrying...\n",
      " 2023-02-18 17:25:06,974 - INFO - Seems like no more free battles. Retrying...\n",
      " 2023-02-18 17:25:07,100 - INFO - Seems like no more free battles. Retrying...\n",
      " 2023-02-18 17:25:07,221 - INFO - No more free battle available\n",
      " 2023-02-18 17:25:07,222 - INFO - rookie arena run end\n",
      " 2023-02-18 17:25:07,222 - INFO - Exiting to home...\n"
     ]
    }
   ],
   "source": [
    "agent.rookie_arena()"
   ]
  },
  {
   "cell_type": "code",
   "execution_count": 94,
   "id": "b27206b8",
   "metadata": {
    "scrolled": true
   },
   "outputs": [
    {
     "name": "stdout",
     "output_type": "stream",
     "text": [
      "a\n"
     ]
    }
   ],
   "source": [
    "if (gio.locate_image(agent.image_map['home_blabla']) and\n",
    "gio.locate_image(agent.image_map['home_friend']) and\n",
    "   gio.locate_image(agent.image_map['home_union'])):\n",
    "    print(\"a\")"
   ]
  },
  {
   "cell_type": "code",
   "execution_count": 175,
   "id": "c4abeb74",
   "metadata": {},
   "outputs": [],
   "source": [
    "item_list = [agent.image_map['home_blabla'],agent.image_map['home_friend'],agent.image_map['home_union']]"
   ]
  },
  {
   "cell_type": "code",
   "execution_count": 183,
   "id": "3b0f5827",
   "metadata": {},
   "outputs": [],
   "source": [
    "loc = gio.exist_image(item_list, region=agent.location_map['home'].to_bounding())"
   ]
  },
  {
   "cell_type": "code",
   "execution_count": 197,
   "id": "d5127942",
   "metadata": {},
   "outputs": [],
   "source": [
    "def exit_to_home():\n",
    "    item_list = [agent.image_map['home_blabla'],agent.image_map['home_friend'],agent.image_map['home_union']]\n",
    "    while gio.exist_image(item_list, region=agent.location_map['home'].to_bounding()) is False:\n",
    "        gio.single_click(\"esc\")\n",
    "        gio.delay(1)"
   ]
  },
  {
   "cell_type": "code",
   "execution_count": 213,
   "id": "5b20449c",
   "metadata": {},
   "outputs": [],
   "source": [
    "gio.locate_image_and_click(agent.image_map['home_outpost_express'],\n",
    "                           region=agent.location_map['home'].to_bounding())\n",
    "gio.locate_image_and_click(agent.image_map['home_outpost_express_obtain_reward'],\n",
    "                           region=agent.location_map['home'].to_bounding(), loop=True)\n",
    "potential_actions = [agent.image_map['home_outpost_express_reward'],\n",
    "                     agent.image_map['home_outpost_express_confirm'],\n",
    "                     agent.image_map['home_outpost_express_level_up']]\n",
    "gio.locate_image_and_click(potential_actions,\n",
    "                           region=agent.location_map['home'].to_bounding(), loop=True)\n",
    "exit_to_home()"
   ]
  },
  {
   "cell_type": "code",
   "execution_count": 202,
   "id": "b14762fd",
   "metadata": {},
   "outputs": [],
   "source": []
  },
  {
   "cell_type": "code",
   "execution_count": 257,
   "id": "0196b413",
   "metadata": {},
   "outputs": [],
   "source": [
    "gio.locate_image_and_click(agent.image_map['home_friend'],\n",
    "                           region=agent.location_map['home'].to_bounding())\n",
    "gio.exist_image(agent.image_map['home_friend_send_ready'], region=agent.location_map['home'].to_bounding(), loop=True)\n",
    "\n",
    "if not gio.exist_image(agent.image_map['home_friend_send_not_ready'], region=agent.location_map['home'].to_bounding(), loop=True, timeout=2):\n",
    "    gio.locate_image_and_click(agent.image_map['home_friend_send'],\n",
    "                               region=agent.location_map['home'].to_bounding(), loop=True)\n",
    "    gio.locate_image_and_click(agent.image_map['confirm'],\n",
    "                               region=agent.location_map['home'].to_bounding())"
   ]
  },
  {
   "cell_type": "code",
   "execution_count": null,
   "id": "0f629188",
   "metadata": {},
   "outputs": [],
   "source": []
  },
  {
   "cell_type": "code",
   "execution_count": 7,
   "id": "7d9b3fcb",
   "metadata": {
    "scrolled": true
   },
   "outputs": [
    {
     "name": "stderr",
     "output_type": "stream",
     "text": [
      " 2023-02-15 15:02:47,658 - INFO - claiming outpost reward start\n",
      " 2023-02-15 15:02:54,512 - INFO - Checking if outpost wipe is available\n"
     ]
    },
    {
     "name": "stdout",
     "output_type": "stream",
     "text": [
      "single clicking esc\n"
     ]
    },
    {
     "name": "stderr",
     "output_type": "stream",
     "text": [
      " 2023-02-15 15:03:14,899 - INFO - Performed 1 outpost wipe\n",
      " 2023-02-15 15:03:17,329 - INFO - claiming outpost reward end successful\n"
     ]
    },
    {
     "name": "stdout",
     "output_type": "stream",
     "text": [
      "single clicking esc\n",
      "single clicking esc\n"
     ]
    }
   ],
   "source": [
    "agent.daily()"
   ]
  },
  {
   "cell_type": "code",
   "execution_count": 242,
   "id": "981c4d41",
   "metadata": {},
   "outputs": [
    {
     "data": {
      "text/plain": [
       "LocationBox(left=48, top=179, width=575, height=1022)"
      ]
     },
     "execution_count": 242,
     "metadata": {},
     "output_type": "execute_result"
    }
   ],
   "source": [
    "agent.location_map['home']"
   ]
  },
  {
   "cell_type": "code",
   "execution_count": 299,
   "id": "29f79443",
   "metadata": {},
   "outputs": [],
   "source": [
    "im = gio.locate_image(agent.image_map['home_outpost_express'], region=agent.location_map['home'].to_bounding(), confidence=0.8)"
   ]
  },
  {
   "cell_type": "code",
   "execution_count": 300,
   "id": "2fbe2025",
   "metadata": {},
   "outputs": [
    {
     "data": {
      "image/png": "[encoded data removed]",
      "text/plain": [
       "<PIL.Image.Image image mode=RGB size=31x16>"
      ]
     },
     "execution_count": 300,
     "metadata": {},
     "output_type": "execute_result"
    }
   ],
   "source": [
    "gio.get_location_image(im)"
   ]
  },
  {
   "cell_type": "code",
   "execution_count": 301,
   "id": "8b074d76",
   "metadata": {},
   "outputs": [
    {
     "data": {
      "image/png": "[encoded data removed]",
      "text/plain": [
       "<PIL.PngImagePlugin.PngImageFile image mode=RGBA size=31x16>"
      ]
     },
     "execution_count": 301,
     "metadata": {},
     "output_type": "execute_result"
    }
   ],
   "source": [
    "agent.image_map['home_outpost_express']"
   ]
  },
  {
   "cell_type": "code",
   "execution_count": 13,
   "id": "d5b5aaac",
   "metadata": {},
   "outputs": [
    {
     "data": {
      "text/plain": [
       "True"
      ]
     },
     "execution_count": 13,
     "metadata": {},
     "output_type": "execute_result"
    }
   ],
   "source": [
    "gio.locate_image_and_click(agent.image_map['home_outpost_express'],\n",
    "                           region=agent.location_map['home'].to_bounding(), confidence=0.8)"
   ]
  },
  {
   "cell_type": "code",
   "execution_count": 10,
   "id": "8fe41016",
   "metadata": {},
   "outputs": [
    {
     "data": {
      "text/plain": [
       "True"
      ]
     },
     "execution_count": 10,
     "metadata": {},
     "output_type": "execute_result"
    }
   ],
   "source": [
    "app_list = gw.getWindowsAt(*gio.get_image_center(agent.location_map['home']))\n",
    "app = [app for app in app_list if app.title == agent.NIKKE_PC_WINDOW][0]\n",
    "app.activate()\n",
    "\n",
    "\n",
    "gio.locate_image_and_click(agent.image_map['home_outpost_express'],\n",
    "                           region=agent.location_map['home'].to_bounding(), confidence=0.8)"
   ]
  },
  {
   "cell_type": "code",
   "execution_count": 285,
   "id": "07c039bc",
   "metadata": {},
   "outputs": [
    {
     "name": "stdout",
     "output_type": "stream",
     "text": [
      "<Win32Window left=\"40\", top=\"148\", width=\"591\", height=\"1061\", title=\"NIKKE\">\n"
     ]
    }
   ],
   "source": [
    "print(app)"
   ]
  },
  {
   "cell_type": "code",
   "execution_count": 252,
   "id": "3db8365d",
   "metadata": {},
   "outputs": [],
   "source": [
    "import pydirectinput as p"
   ]
  },
  {
   "cell_type": "code",
   "execution_count": 256,
   "id": "45424c0c",
   "metadata": {},
   "outputs": [],
   "source": [
    "p.doubleClick()"
   ]
  },
  {
   "cell_type": "code",
   "execution_count": 259,
   "id": "a0c6db41",
   "metadata": {},
   "outputs": [],
   "source": [
    "def left_click(delay=0.5):\n",
    "    pyautogui.click(button='left')\n",
    "    gio.delay(delay)\n",
    "    pyautogui.mouseUp(button='left')"
   ]
  },
  {
   "cell_type": "code",
   "execution_count": 272,
   "id": "3e487a0a",
   "metadata": {},
   "outputs": [
    {
     "name": "stdout",
     "output_type": "stream",
     "text": [
      "<Win32Window left=\"835\", top=\"99\", width=\"1462\", height=\"1276\", title=\"Nikke - Jupyter Notebook - Google Chrome\">\n"
     ]
    }
   ],
   "source": [
    "import pygetwindow as gw\n",
    "\n",
    "win = gw.getWindowsWithTitle('NIKKE')[0]\n",
    "win.activate()\n",
    "aw = gw.getActiveWindow()\n",
    "print(aw)"
   ]
  },
  {
   "cell_type": "code",
   "execution_count": 275,
   "id": "4cd4c44e",
   "metadata": {},
   "outputs": [
    {
     "name": "stdout",
     "output_type": "stream",
     "text": [
      "<Win32Window left=\"835\", top=\"99\", width=\"1462\", height=\"1276\", title=\"Nikke - Jupyter Notebook - Google Chrome\">\n"
     ]
    }
   ],
   "source": [
    "print(win)"
   ]
  },
  {
   "cell_type": "code",
   "execution_count": 271,
   "id": "0372ba2d",
   "metadata": {},
   "outputs": [
    {
     "name": "stdout",
     "output_type": "stream",
     "text": [
      "<Win32Window left=\"835\", top=\"99\", width=\"1462\", height=\"1276\", title=\"Nikke - Jupyter Notebook - Google Chrome\">\n"
     ]
    }
   ],
   "source": []
  },
  {
   "cell_type": "code",
   "execution_count": 292,
   "id": "1122026d",
   "metadata": {},
   "outputs": [],
   "source": [
    "app_list = gw.getWindowsAt(*gio.get_image_center(agent.location_map['home']))\n",
    "app = [app for app in app_list if app.title == agent.NIKKE_PC_WINDOW][0]\n",
    "app.activate()"
   ]
  },
  {
   "cell_type": "code",
   "execution_count": 286,
   "id": "7e6790d8",
   "metadata": {},
   "outputs": [
    {
     "name": "stdout",
     "output_type": "stream",
     "text": [
      "<Win32Window left=\"40\", top=\"148\", width=\"591\", height=\"1061\", title=\"NIKKE\">\n",
      "<Win32Window left=\"0\", top=\"0\", width=\"2560\", height=\"1440\", title=\"\">\n",
      "<Win32Window left=\"0\", top=\"0\", width=\"2560\", height=\"1440\", title=\"Microsoft Text Input Application\">\n",
      "<Win32Window left=\"0\", top=\"0\", width=\"2560\", height=\"1440\", title=\"Program Manager\">\n"
     ]
    },
    {
     "data": {
      "text/plain": [
       "[None, None, None, None]"
      ]
     },
     "execution_count": 286,
     "metadata": {},
     "output_type": "execute_result"
    }
   ],
   "source": [
    "[print(w) for w in win]"
   ]
  },
  {
   "cell_type": "code",
   "execution_count": 15,
   "id": "66fb49ff",
   "metadata": {},
   "outputs": [
    {
     "data": {
      "text/plain": [
       "True"
      ]
     },
     "execution_count": 15,
     "metadata": {},
     "output_type": "execute_result"
    }
   ],
   "source": [
    "import admin\n",
    "if not admin.isUserAdmin():\n",
    "    admin.runAsAdmin()\n",
    "app_list = gw.getWindowsAt(*gio.get_image_center(agent.location_map['home']))\n",
    "app = [app for app in app_list if app.title == agent.NIKKE_PC_WINDOW][0]\n",
    "app.activate()\n",
    "\n",
    "\n",
    "gio.locate_image_and_click(agent.image_map['home_outpost_express'],\n",
    "                           region=agent.location_map['home'].to_bounding(), confidence=0.8)"
   ]
  },
  {
   "cell_type": "code",
   "execution_count": 54,
   "id": "08881a1a",
   "metadata": {},
   "outputs": [],
   "source": [
    "ADVISE_AMOUT_TEXT = '咨询次数'\n",
    "if not gio.exist_image(agent.image_map['home_advise_home'], loop=True, timeout=3):\n",
    "    agent.logger.info('Leaving advising because not in advising UI')\n",
    "im = gio.get_location_image(agent.location_map['home'])\n",
    "result = gio.read_text(im, detail=0)\n",
    "available_advise_session = int([result[ind+1] for ind, s in enumerate(result) if s==ADVISE_AMOUT_TEXT][0].strip()[0])"
   ]
  },
  {
   "cell_type": "code",
   "execution_count": 63,
   "id": "a71ee239",
   "metadata": {},
   "outputs": [],
   "source": [
    "a = agent.advise_check_available_session()"
   ]
  },
  {
   "cell_type": "code",
   "execution_count": 64,
   "id": "42cc5bb0",
   "metadata": {},
   "outputs": [
    {
     "data": {
      "text/plain": [
       "0"
      ]
     },
     "execution_count": 64,
     "metadata": {},
     "output_type": "execute_result"
    }
   ],
   "source": [
    "a"
   ]
  },
  {
   "cell_type": "code",
   "execution_count": 65,
   "id": "4d87d819",
   "metadata": {
    "scrolled": true
   },
   "outputs": [
    {
     "name": "stderr",
     "output_type": "stream",
     "text": [
      " 2023-02-15 15:57:38,512 - INFO - advising nikkes start\n",
      " 2023-02-15 15:57:42,932 - INFO - started a round of advising nikkes\n",
      " 2023-02-15 15:57:45,625 - INFO - No more sessions available today\n",
      " 2023-02-15 15:57:50,337 - INFO - No more new nikkes to advise\n",
      " 2023-02-15 15:57:50,337 - INFO - ended a round of advising nikkes\n",
      " 2023-02-15 15:57:50,338 - INFO - advising nikkes end successful\n"
     ]
    }
   ],
   "source": [
    "agent.advise_nikke()"
   ]
  },
  {
   "cell_type": "code",
   "execution_count": 161,
   "id": "de6aa980",
   "metadata": {},
   "outputs": [],
   "source": [
    "app_list = gw.getWindowsAt(*gio.get_image_center(agent.location_map['home']))\n",
    "app = [app for app in app_list if app.title == agent.NIKKE_PC_WINDOW][0]\n",
    "app.activate()"
   ]
  },
  {
   "cell_type": "code",
   "execution_count": 163,
   "id": "323c6a6e",
   "metadata": {},
   "outputs": [],
   "source": [
    "app.resize()"
   ]
  },
  {
   "cell_type": "code",
   "execution_count": 55,
   "id": "c18b0181",
   "metadata": {},
   "outputs": [],
   "source": [
    "def resize(app_name='NIKKE', size=[2560, 1000]):\n",
    "    app = [app for app in gw.getWindowsWithTitle(app_name) if app.title == app_name][0]\n",
    "    app.resizeTo(*size)"
   ]
  },
  {
   "cell_type": "code",
   "execution_count": 60,
   "id": "bdf74a69",
   "metadata": {},
   "outputs": [],
   "source": [
    "resize(size=[2560, 1000])"
   ]
  },
  {
   "cell_type": "code",
   "execution_count": 291,
   "id": "4010c190",
   "metadata": {},
   "outputs": [
    {
     "data": {
      "text/plain": [
       "LocationBox(left=48, top=179, width=575, height=1022)"
      ]
     },
     "execution_count": 291,
     "metadata": {},
     "output_type": "execute_result"
    }
   ],
   "source": [
    "agent.location_map['home']"
   ]
  },
  {
   "cell_type": "code",
   "execution_count": 287,
   "id": "c4838728",
   "metadata": {},
   "outputs": [
    {
     "ename": "TypeError",
     "evalue": "Win32Window.resize() missing 2 required positional arguments: 'widthOffset' and 'heightOffset'",
     "output_type": "error",
     "traceback": [
      "\u001b[1;31m---------------------------------------------------------------------------\u001b[0m",
      "\u001b[1;31mTypeError\u001b[0m                                 Traceback (most recent call last)",
      "Input \u001b[1;32mIn [287]\u001b[0m, in \u001b[0;36m<cell line: 1>\u001b[1;34m()\u001b[0m\n\u001b[1;32m----> 1\u001b[0m \u001b[43mapp\u001b[49m\u001b[38;5;241;43m.\u001b[39;49m\u001b[43mresize\u001b[49m\u001b[43m(\u001b[49m\u001b[43m)\u001b[49m\n",
      "\u001b[1;31mTypeError\u001b[0m: Win32Window.resize() missing 2 required positional arguments: 'widthOffset' and 'heightOffset'"
     ]
    }
   ],
   "source": [
    "app.resize()"
   ]
  },
  {
   "cell_type": "code",
   "execution_count": null,
   "id": "dafc2e87",
   "metadata": {},
   "outputs": [],
   "source": [
    "def retry_action(timeout=3, delay=3):\n",
    "    def post_action(function):\n",
    "        @wraps(function)\n",
    "        def wrapper(*args, **kwargs):\n",
    "            attempt = 0\n",
    "            while attempt < timeout:\n",
    "                try:\n",
    "                    retval = function(*args, **kwargs)\n",
    "                    return retval\n",
    "                except Exception as e:\n",
    "                    self.logger.error(e)\n",
    "                    GameInteractionIO.delay(delay)\n",
    "            raise e\n",
    "        return wrapper\n",
    "    return post_action"
   ]
  }
 ],
 "metadata": {
  "kernelspec": {
   "display_name": "Python 3 (ipykernel)",
   "language": "python",
   "name": "python3"
  },
  "language_info": {
   "codemirror_mode": {
    "name": "ipython",
    "version": 3
   },
   "file_extension": ".py",
   "mimetype": "text/x-python",
   "name": "python",
   "nbconvert_exporter": "python",
   "pygments_lexer": "ipython3",
   "version": "3.10.4"
  }
 },
 "nbformat": 4,
 "nbformat_minor": 5
}
